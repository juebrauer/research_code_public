{
 "cells": [
  {
   "cell_type": "markdown",
   "metadata": {},
   "source": [
    "# Introduction"
   ]
  },
  {
   "cell_type": "markdown",
   "metadata": {},
   "source": [
    "The [\"SARS-CoV-2 virus\"](https://en.wikipedia.org/wiki/Severe_acute_respiratory_syndrome_coronavirus_2) (abbreviation for \"Severe Acute Respiratory Syndrome CoronaVirus 2\") spreads rapidly.\n",
    "\n",
    "For the current spread of the virus see, e.g., the following map:\n",
    "\n",
    "[\"Coronavirus COVID-19 Global Cases by the Center for Systems Science and Engineering (CSSE) at Johns Hopkins University (JHU)](https://coronavirus.jhu.edu/map.html).\n",
    "\n",
    "It can cause a respiratory illness which is called [\"COVID-19\"](https://en.wikipedia.org/wiki/Coronavirus_disease_2019) (from \"COronaVIrus Disease 2019\").\n",
    "\n",
    "In this context, machine learning engineers and researchers try to help.\n",
    "\n",
    "Recently, [Kaggle](https://www.kaggle.com/) published the [CORD-19 dataset (COVID-19 Open Research Dataset)](https://www.kaggle.com/allen-institute-for-ai/CORD-19-research-challenge) - a dataset of over 51.000 (in version 7) medical articles related to corona-viruses:\n",
    "\n",
    ">In response to the COVID-19 pandemic, the White House and a coalition of leading research groups have prepared the COVID-19 Open Research Dataset (CORD-19). CORD-19 is a resource of over 51,000 scholarly articles, including over 40,000 with full text, about COVID-19, SARS-CoV-2, and related coronaviruses. This freely available dataset is provided to the global research community to apply recent advances in natural language processing and other AI techniques to generate new insights in support of the ongoing fight against this infectious disease. There is a growing urgency for these approaches because of the rapid acceleration in new coronavirus literature, making it difficult for the medical research community to keep up.\n",
    "\n",
    "[Quotation source](https://www.kaggle.com/allen-institute-for-ai/CORD-19-research-challenge)\n",
    "\n",
    "Notebook by [Prof. Dr. Jürgen Brauer](www.juergenbrauer.org)"
   ]
  },
  {
   "cell_type": "markdown",
   "metadata": {},
   "source": [
    "# Goal of this notebook\n",
    "\n",
    "This notebook tries to make use of the huge CORD-19 article dataset in order to find evidences for the currently discussed medications that may help against the virus.\n",
    "\n",
    "To be more precise, this notebook is a try to give some answers to the CORD-19 challenge question:\n",
    "\n",
    "[\"What do we know about vaccines and therapeutics?\"](https://www.kaggle.com/allen-institute-for-ai/CORD-19-research-challenge/tasks?taskId=561)\n",
    "\n",
    "To focus the search we concentrate on drugs against COVID-19."
   ]
  },
  {
   "cell_type": "markdown",
   "metadata": {},
   "source": [
    "# All notebook settings at one place"
   ]
  },
  {
   "cell_type": "markdown",
   "metadata": {},
   "source": [
    "Here we set all parameters in one code cell. This gives you an good overview what you can adjust before running the notebook.\n",
    "\n",
    "Each parameter that can be set starts with `PARAM_`."
   ]
  },
  {
   "cell_type": "code",
   "execution_count": 1,
   "metadata": {},
   "outputs": [],
   "source": [
    "# What is the name of the dataset (including version string)\n",
    "PARAM_dataset_name = \"CORD-19 (version 7)\"\n",
    "\n",
    "# Where do you have stored the CORD-19 dataset on your computer?\n",
    "PARAM_dataset_cord19 = \"/home/juebrauer/link_to_vcd/12_datasets/01_cord-19-research-challenge-v7\"\n",
    "\n",
    "# What is the name of the CORD-19 metadata file?\n",
    "PARAM_filename_metadata_cord19 = PARAM_dataset_cord19 + \"/\" + \"metadata.csv\"\n",
    "\n",
    "# Filter for a specific virus?\n",
    "PARAM_filter_for_specific_virus = False\n",
    "PARAM_virus_name = \"SARS\""
   ]
  },
  {
   "cell_type": "markdown",
   "metadata": {},
   "source": [
    "# Methodology\n",
    "\n",
    "Two steps:\n",
    "\n",
    "- First we look at non CORD-19 articles: Which drugs (or more generally therapies) are mentioned here to fight the virus?\n",
    "- On the basis of these articles, a list of promising drugs is compiled, for which evidence is then sought in CORD-19 dataset"
   ]
  },
  {
   "cell_type": "markdown",
   "metadata": {},
   "source": [
    "# Identifying promising drugs (therapies)"
   ]
  },
  {
   "cell_type": "markdown",
   "metadata": {},
   "source": [
    "We first compile a list of promising drugs against COVID-19. We use press articles and professional medial publications for compiling the list.\n",
    "\n",
    "Why press articles to collect a list of possible drugs? Press articles are very topical and researchers from a wide range of research areas are often interviewed.\n",
    "\n",
    "\n",
    "Here is a list of articles talking about COVID-19 related promising drugs:\n",
    "\n",
    "- **Article title:** \"Unlike FDA, European regulators refuse to clear chloroquine for COVID-19 without data\"<br>\n",
    "  **Article type:** Press article<br>\n",
    "  **Article date:** 02.04.2020<br>\n",
    "  **Link:** https://www.fiercepharma.com/pharma/europe-locks-down-chloroquine-scripts-as-researchers-china-report-positive-controlled-covid<br>\n",
    "  **Drug candidates:** _Chloroquine, Hydroxychloroquine_\n",
    "  \n",
    "- **Article title:** \"Coronavirus: New drug and vaccine show promise against COVID-19\"<br>\n",
    "  **Article type:** Press article<br>\n",
    "  **Article date:** 03.04.2020<br>\n",
    "  **Link:** https://www.newshub.co.nz/home/world/2020/04/coronavirus-new-drug-and-vaccine-show-promise-against-covid-19.html<br>\n",
    "  **Drug candidates:** _APN01 (or APN001)_\n",
    "\n",
    "- **Article title:** \"Remdesivir most promising COVID-19 drug, say researchers\"<br>\n",
    "  **Article type:** Press article<br>\n",
    "  **Article date:** 27.03.2020<br>\n",
    "  **Link:** https://www.drugtargetreview.com/news/58608/remdesivir-most-promising-covid-19-drug-say-researchers/<br>\n",
    "  **Drug candidates:** _remdesivir, tilarone_\n",
    "  \n",
    "- **Article title:** \"COVID-19 Drug Therapy – Potential Options\"<br>\n",
    "  **Article type:** Medical publication<br>\n",
    "  **Article date:** 26.03.2020<br>\n",
    "  **Link:** https://www.google.com/url?sa=t&rct=j&q=&esrc=s&source=web&cd=1&ved=2ahUKEwjK5-flnszoAhWTilwKHaZPBDQQFjAAegQIBRAB&url=https%3A%2F%2Fwww.elsevier.com%2F__data%2Fassets%2Fpdf_file%2F0007%2F988648%2FCOVID-19-Drug-Therapy_Mar-2020.pdf&usg=AOvVaw25eIClQRNh7ipfOu0IvWEm<br>\n",
    "  **Drug candidates:** _Chloroquine, Hydroxychloroquine, Lopinavir, Ritonavir, Remdesivir (GS-5734), Azithromycin, Tocilizumab_\n",
    "  \n",
    "- **Article title:** \"COVID-19 drug repurposing research\"<br>\n",
    "  **Article type:** Wikipedia article<br>\n",
    "  **Article date:** 03.04.2020<br>\n",
    "  **Link:** https://en.wikipedia.org/wiki/COVID-19_drug_repurposing_research<br>\n",
    "  **Drug candidates:** _Chloroquine, Favipiravir, Interferon beta (IFN-β), Lopinavir, Ritonavir, Remdesivir, Intravenous vitamin C, Azithromycin, Ciclesonide_\n",
    "  \n",
    "- **Article title:**<br>\n",
    "  **Article type:**<br>\n",
    "  **Article date:**<br>\n",
    "  **Link:** \n",
    "  **Drug candidates:**\n",
    "  \n",
    "List of many other candidates: https://www.visualcapitalist.com/every-vaccine-treatment-covid-19-so-far/\n"
   ]
  },
  {
   "cell_type": "code",
   "execution_count": 2,
   "metadata": {},
   "outputs": [],
   "source": [
    "drug_candidates = [\"Chloroquine\",\n",
    "                   \"Hydroxychloroquine\",\n",
    "                   \"APN01\",\n",
    "                   \"APN001\",\n",
    "                   \"Remdesivir\",\n",
    "                   \"GS-5734\",\n",
    "                   \"Tilarone\",\n",
    "                   \"Lopinavir\",\n",
    "                   \"Ritonavir\",\n",
    "                   \"Azithromycin\",\n",
    "                   \"Tocilizumab\",\n",
    "                   \"Favipiravir\",\n",
    "                   \"Interferon beta\",\n",
    "                   \"Intravenous vitamin C\",\n",
    "                   \"Ciclesonide\"\n",
    "                  ]"
   ]
  },
  {
   "cell_type": "code",
   "execution_count": 3,
   "metadata": {},
   "outputs": [],
   "source": [
    "nr_drug_candidates = len(drug_candidates)"
   ]
  },
  {
   "cell_type": "code",
   "execution_count": 4,
   "metadata": {},
   "outputs": [
    {
     "data": {
      "text/plain": [
       "15"
      ]
     },
     "execution_count": 4,
     "metadata": {},
     "output_type": "execute_result"
    }
   ],
   "source": [
    "nr_drug_candidates"
   ]
  },
  {
   "cell_type": "code",
   "execution_count": 5,
   "metadata": {},
   "outputs": [],
   "source": [
    "drug_candidates_lower = []\n",
    "for drug in drug_candidates:\n",
    "    drug_candidates_lower.append( drug.lower() )"
   ]
  },
  {
   "cell_type": "code",
   "execution_count": 6,
   "metadata": {},
   "outputs": [
    {
     "data": {
      "text/plain": [
       "['chloroquine',\n",
       " 'hydroxychloroquine',\n",
       " 'apn01',\n",
       " 'apn001',\n",
       " 'remdesivir',\n",
       " 'gs-5734',\n",
       " 'tilarone',\n",
       " 'lopinavir',\n",
       " 'ritonavir',\n",
       " 'azithromycin',\n",
       " 'tocilizumab',\n",
       " 'favipiravir',\n",
       " 'interferon beta',\n",
       " 'intravenous vitamin c',\n",
       " 'ciclesonide']"
      ]
     },
     "execution_count": 6,
     "metadata": {},
     "output_type": "execute_result"
    }
   ],
   "source": [
    "drug_candidates_lower"
   ]
  },
  {
   "cell_type": "markdown",
   "metadata": {},
   "source": [
    "# Some notes regarding the candidates"
   ]
  },
  {
   "cell_type": "markdown",
   "metadata": {},
   "source": [
    "Some notes regarding the candidates:\n",
    "\n",
    "- many candidates fall into the category of \"drug repositioning\" (drug repurposing), which is the repurposing of an approved drug for the treatment of another disease\n",
    "\n",
    "- \"chloroquine\" and \"hydroxychloroquine\" are anti-malarial drugs<br>\n",
    "  Source: https://www.cnbc.com/2020/03/30/who-says-early-data-shows-some-drugs-may-have-an-impact-on-coronavirus-but-more-research-is-needed.html\n",
    "  \n",
    "- Lopinavir, Ritonavir are HIV Protease Inhibitor<br>\n",
    "  Source: \"COVID-19 Drug Therapy – Potential Options\", Elsevier 26.03.2020\n"
   ]
  },
  {
   "cell_type": "markdown",
   "metadata": {},
   "source": [
    "# Some meta-data analysis of the CORD-19 dataset"
   ]
  },
  {
   "cell_type": "markdown",
   "metadata": {},
   "source": [
    "## Read in meta-data"
   ]
  },
  {
   "cell_type": "code",
   "execution_count": 7,
   "metadata": {},
   "outputs": [],
   "source": [
    "# Read in the metadata file\n",
    "\n",
    "import pandas as pd\n",
    "df = pd.read_csv(PARAM_filename_metadata_cord19)"
   ]
  },
  {
   "cell_type": "code",
   "execution_count": 8,
   "metadata": {},
   "outputs": [
    {
     "data": {
      "text/plain": [
       "(51078, 18)"
      ]
     },
     "execution_count": 8,
     "metadata": {},
     "output_type": "execute_result"
    }
   ],
   "source": [
    "df.shape"
   ]
  },
  {
   "cell_type": "code",
   "execution_count": 9,
   "metadata": {},
   "outputs": [
    {
     "data": {
      "text/html": [
       "<div>\n",
       "<style scoped>\n",
       "    .dataframe tbody tr th:only-of-type {\n",
       "        vertical-align: middle;\n",
       "    }\n",
       "\n",
       "    .dataframe tbody tr th {\n",
       "        vertical-align: top;\n",
       "    }\n",
       "\n",
       "    .dataframe thead th {\n",
       "        text-align: right;\n",
       "    }\n",
       "</style>\n",
       "<table border=\"1\" class=\"dataframe\">\n",
       "  <thead>\n",
       "    <tr style=\"text-align: right;\">\n",
       "      <th></th>\n",
       "      <th>cord_uid</th>\n",
       "      <th>sha</th>\n",
       "      <th>source_x</th>\n",
       "      <th>title</th>\n",
       "      <th>doi</th>\n",
       "      <th>pmcid</th>\n",
       "      <th>pubmed_id</th>\n",
       "      <th>license</th>\n",
       "      <th>abstract</th>\n",
       "      <th>publish_time</th>\n",
       "      <th>authors</th>\n",
       "      <th>journal</th>\n",
       "      <th>Microsoft Academic Paper ID</th>\n",
       "      <th>WHO #Covidence</th>\n",
       "      <th>has_pdf_parse</th>\n",
       "      <th>has_pmc_xml_parse</th>\n",
       "      <th>full_text_file</th>\n",
       "      <th>url</th>\n",
       "    </tr>\n",
       "  </thead>\n",
       "  <tbody>\n",
       "    <tr>\n",
       "      <th>0</th>\n",
       "      <td>xqhn0vbp</td>\n",
       "      <td>1e1286db212100993d03cc22374b624f7caee956</td>\n",
       "      <td>PMC</td>\n",
       "      <td>Airborne rhinovirus detection and effect of ul...</td>\n",
       "      <td>10.1186/1471-2458-3-5</td>\n",
       "      <td>PMC140314</td>\n",
       "      <td>12525263.0</td>\n",
       "      <td>no-cc</td>\n",
       "      <td>BACKGROUND: Rhinovirus, the most common cause ...</td>\n",
       "      <td>2003-01-13</td>\n",
       "      <td>Myatt, Theodore A; Johnston, Sebastian L; Rudn...</td>\n",
       "      <td>BMC Public Health</td>\n",
       "      <td>NaN</td>\n",
       "      <td>NaN</td>\n",
       "      <td>True</td>\n",
       "      <td>True</td>\n",
       "      <td>custom_license</td>\n",
       "      <td>https://www.ncbi.nlm.nih.gov/pmc/articles/PMC1...</td>\n",
       "    </tr>\n",
       "    <tr>\n",
       "      <th>1</th>\n",
       "      <td>gi6uaa83</td>\n",
       "      <td>8ae137c8da1607b3a8e4c946c07ca8bda67f88ac</td>\n",
       "      <td>PMC</td>\n",
       "      <td>Discovering human history from stomach bacteria</td>\n",
       "      <td>10.1186/gb-2003-4-5-213</td>\n",
       "      <td>PMC156578</td>\n",
       "      <td>12734001.0</td>\n",
       "      <td>no-cc</td>\n",
       "      <td>Recent analyses of human pathogens have reveal...</td>\n",
       "      <td>2003-04-28</td>\n",
       "      <td>Disotell, Todd R</td>\n",
       "      <td>Genome Biol</td>\n",
       "      <td>NaN</td>\n",
       "      <td>NaN</td>\n",
       "      <td>True</td>\n",
       "      <td>True</td>\n",
       "      <td>custom_license</td>\n",
       "      <td>https://www.ncbi.nlm.nih.gov/pmc/articles/PMC1...</td>\n",
       "    </tr>\n",
       "    <tr>\n",
       "      <th>2</th>\n",
       "      <td>le0ogx1s</td>\n",
       "      <td>NaN</td>\n",
       "      <td>PMC</td>\n",
       "      <td>A new recruit for the army of the men of death</td>\n",
       "      <td>10.1186/gb-2003-4-7-113</td>\n",
       "      <td>PMC193621</td>\n",
       "      <td>12844350.0</td>\n",
       "      <td>no-cc</td>\n",
       "      <td>The army of the men of death, in John Bunyan's...</td>\n",
       "      <td>2003-06-27</td>\n",
       "      <td>Petsko, Gregory A</td>\n",
       "      <td>Genome Biol</td>\n",
       "      <td>NaN</td>\n",
       "      <td>NaN</td>\n",
       "      <td>False</td>\n",
       "      <td>True</td>\n",
       "      <td>custom_license</td>\n",
       "      <td>https://www.ncbi.nlm.nih.gov/pmc/articles/PMC1...</td>\n",
       "    </tr>\n",
       "    <tr>\n",
       "      <th>3</th>\n",
       "      <td>fy4w7xz8</td>\n",
       "      <td>0104f6ceccf92ae8567a0102f89cbb976969a774</td>\n",
       "      <td>PMC</td>\n",
       "      <td>Association of HLA class I with severe acute r...</td>\n",
       "      <td>10.1186/1471-2350-4-9</td>\n",
       "      <td>PMC212558</td>\n",
       "      <td>12969506.0</td>\n",
       "      <td>no-cc</td>\n",
       "      <td>BACKGROUND: The human leukocyte antigen (HLA) ...</td>\n",
       "      <td>2003-09-12</td>\n",
       "      <td>Lin, Marie; Tseng, Hsiang-Kuang; Trejaut, Jean...</td>\n",
       "      <td>BMC Med Genet</td>\n",
       "      <td>NaN</td>\n",
       "      <td>NaN</td>\n",
       "      <td>True</td>\n",
       "      <td>True</td>\n",
       "      <td>custom_license</td>\n",
       "      <td>https://www.ncbi.nlm.nih.gov/pmc/articles/PMC2...</td>\n",
       "    </tr>\n",
       "    <tr>\n",
       "      <th>4</th>\n",
       "      <td>0qaoam29</td>\n",
       "      <td>5b68a553a7cbbea13472721cd1ad617d42b40c26</td>\n",
       "      <td>PMC</td>\n",
       "      <td>A double epidemic model for the SARS propagation</td>\n",
       "      <td>10.1186/1471-2334-3-19</td>\n",
       "      <td>PMC222908</td>\n",
       "      <td>12964944.0</td>\n",
       "      <td>no-cc</td>\n",
       "      <td>BACKGROUND: An epidemic of a Severe Acute Resp...</td>\n",
       "      <td>2003-09-10</td>\n",
       "      <td>Ng, Tuen Wai; Turinici, Gabriel; Danchin, Antoine</td>\n",
       "      <td>BMC Infect Dis</td>\n",
       "      <td>NaN</td>\n",
       "      <td>NaN</td>\n",
       "      <td>True</td>\n",
       "      <td>True</td>\n",
       "      <td>custom_license</td>\n",
       "      <td>https://www.ncbi.nlm.nih.gov/pmc/articles/PMC2...</td>\n",
       "    </tr>\n",
       "  </tbody>\n",
       "</table>\n",
       "</div>"
      ],
      "text/plain": [
       "   cord_uid                                       sha source_x  \\\n",
       "0  xqhn0vbp  1e1286db212100993d03cc22374b624f7caee956      PMC   \n",
       "1  gi6uaa83  8ae137c8da1607b3a8e4c946c07ca8bda67f88ac      PMC   \n",
       "2  le0ogx1s                                       NaN      PMC   \n",
       "3  fy4w7xz8  0104f6ceccf92ae8567a0102f89cbb976969a774      PMC   \n",
       "4  0qaoam29  5b68a553a7cbbea13472721cd1ad617d42b40c26      PMC   \n",
       "\n",
       "                                               title                      doi  \\\n",
       "0  Airborne rhinovirus detection and effect of ul...    10.1186/1471-2458-3-5   \n",
       "1    Discovering human history from stomach bacteria  10.1186/gb-2003-4-5-213   \n",
       "2     A new recruit for the army of the men of death  10.1186/gb-2003-4-7-113   \n",
       "3  Association of HLA class I with severe acute r...    10.1186/1471-2350-4-9   \n",
       "4   A double epidemic model for the SARS propagation   10.1186/1471-2334-3-19   \n",
       "\n",
       "       pmcid   pubmed_id license  \\\n",
       "0  PMC140314  12525263.0   no-cc   \n",
       "1  PMC156578  12734001.0   no-cc   \n",
       "2  PMC193621  12844350.0   no-cc   \n",
       "3  PMC212558  12969506.0   no-cc   \n",
       "4  PMC222908  12964944.0   no-cc   \n",
       "\n",
       "                                            abstract publish_time  \\\n",
       "0  BACKGROUND: Rhinovirus, the most common cause ...   2003-01-13   \n",
       "1  Recent analyses of human pathogens have reveal...   2003-04-28   \n",
       "2  The army of the men of death, in John Bunyan's...   2003-06-27   \n",
       "3  BACKGROUND: The human leukocyte antigen (HLA) ...   2003-09-12   \n",
       "4  BACKGROUND: An epidemic of a Severe Acute Resp...   2003-09-10   \n",
       "\n",
       "                                             authors            journal  \\\n",
       "0  Myatt, Theodore A; Johnston, Sebastian L; Rudn...  BMC Public Health   \n",
       "1                                   Disotell, Todd R        Genome Biol   \n",
       "2                                  Petsko, Gregory A        Genome Biol   \n",
       "3  Lin, Marie; Tseng, Hsiang-Kuang; Trejaut, Jean...      BMC Med Genet   \n",
       "4  Ng, Tuen Wai; Turinici, Gabriel; Danchin, Antoine     BMC Infect Dis   \n",
       "\n",
       "   Microsoft Academic Paper ID WHO #Covidence  has_pdf_parse  \\\n",
       "0                          NaN            NaN           True   \n",
       "1                          NaN            NaN           True   \n",
       "2                          NaN            NaN          False   \n",
       "3                          NaN            NaN           True   \n",
       "4                          NaN            NaN           True   \n",
       "\n",
       "   has_pmc_xml_parse  full_text_file  \\\n",
       "0               True  custom_license   \n",
       "1               True  custom_license   \n",
       "2               True  custom_license   \n",
       "3               True  custom_license   \n",
       "4               True  custom_license   \n",
       "\n",
       "                                                 url  \n",
       "0  https://www.ncbi.nlm.nih.gov/pmc/articles/PMC1...  \n",
       "1  https://www.ncbi.nlm.nih.gov/pmc/articles/PMC1...  \n",
       "2  https://www.ncbi.nlm.nih.gov/pmc/articles/PMC1...  \n",
       "3  https://www.ncbi.nlm.nih.gov/pmc/articles/PMC2...  \n",
       "4  https://www.ncbi.nlm.nih.gov/pmc/articles/PMC2...  "
      ]
     },
     "execution_count": 9,
     "metadata": {},
     "output_type": "execute_result"
    }
   ],
   "source": [
    "# Show first 5 rows of the metadata\n",
    "# to get a feeling for the metadata\n",
    "\n",
    "df.head(5)"
   ]
  },
  {
   "cell_type": "markdown",
   "metadata": {},
   "source": [
    "Some column names and meanings:\n",
    "\n",
    "  * cord_uid: a unique identifier for each article in the CORD-19 dataset\n",
    "  * sha: many of the paper records have PDFs and the hash of the PDFs are in 'sha'\n",
    "  * source_x: where is the article published?\n",
    "  * title: title of the article\n",
    "  * doi: the [Digital Object Identifier (DOI)](https://en.wikipedia.org/wiki/Digital_object_identifier) of the article. Why DOIs? DOIs are fixed, while URLs (website addresses) can change\n",
    "  * pcmid: id present if it is a \"PubMed Central (PMC)\" article. \"PubMed Central\" is a free full-text archive of biomedical and life sciences journal literature at the U.S. National Institutes of Health's National Library of Medicine (NIH/NLM)\n",
    "  * ..."
   ]
  },
  {
   "cell_type": "markdown",
   "metadata": {},
   "source": [
    "|   |   |   |   |   |\n",
    "|---|---|---|---|---|\n",
    "|   |   |   |   |   |"
   ]
  },
  {
   "cell_type": "markdown",
   "metadata": {},
   "source": [
    "## Analyze publication years of articles"
   ]
  },
  {
   "cell_type": "code",
   "execution_count": 10,
   "metadata": {},
   "outputs": [
    {
     "data": {
      "text/plain": [
       "0       2003-01-13\n",
       "1       2003-04-28\n",
       "2       2003-06-27\n",
       "3       2003-09-12\n",
       "4       2003-09-10\n",
       "           ...    \n",
       "51073   2019-06-30\n",
       "51074   2014-02-28\n",
       "51075   2008-12-18\n",
       "51076   2013-10-31\n",
       "51077   1991-12-31\n",
       "Name: publish_time, Length: 51078, dtype: datetime64[ns]"
      ]
     },
     "execution_count": 10,
     "metadata": {},
     "output_type": "execute_result"
    }
   ],
   "source": [
    "dates = pd.to_datetime(df[\"publish_time\"])\n",
    "dates"
   ]
  },
  {
   "cell_type": "code",
   "execution_count": 11,
   "metadata": {},
   "outputs": [
    {
     "data": {
      "text/plain": [
       "pandas.core.series.Series"
      ]
     },
     "execution_count": 11,
     "metadata": {},
     "output_type": "execute_result"
    }
   ],
   "source": [
    "type(dates)"
   ]
  },
  {
   "cell_type": "code",
   "execution_count": 12,
   "metadata": {},
   "outputs": [
    {
     "name": "stdout",
     "output_type": "stream",
     "text": [
      "Article found with unknown publication year (year=nan)\n",
      "Article found with unknown publication year (year=nan)\n",
      "Article found with unknown publication year (year=nan)\n",
      "Article found with unknown publication year (year=nan)\n",
      "Article found with unknown publication year (year=nan)\n",
      "Article found with unknown publication year (year=nan)\n",
      "Article found with unknown publication year (year=nan)\n",
      "Article found with unknown publication year (year=nan)\n"
     ]
    }
   ],
   "source": [
    "publication_years = []\n",
    "for date in dates:\n",
    "    year = date.year\n",
    "    if not isinstance(year,int):\n",
    "        print(\"Article found with unknown publication year (year={0})\".format(year))\n",
    "    else:\n",
    "        publication_years.append( year )"
   ]
  },
  {
   "cell_type": "code",
   "execution_count": 13,
   "metadata": {},
   "outputs": [
    {
     "data": {
      "text/plain": [
       "[2003,\n",
       " 2003,\n",
       " 2003,\n",
       " 2003,\n",
       " 2003,\n",
       " 2003,\n",
       " 2003,\n",
       " 2003,\n",
       " 2003,\n",
       " 2003,\n",
       " 2003,\n",
       " 2003,\n",
       " 2004,\n",
       " 2004,\n",
       " 2004,\n",
       " 2004,\n",
       " 2004,\n",
       " 2004,\n",
       " 2004,\n",
       " 2004]"
      ]
     },
     "execution_count": 13,
     "metadata": {},
     "output_type": "execute_result"
    }
   ],
   "source": [
    "publication_years[:20]"
   ]
  },
  {
   "cell_type": "code",
   "execution_count": 14,
   "metadata": {},
   "outputs": [
    {
     "data": {
      "text/plain": [
       "1951"
      ]
     },
     "execution_count": 14,
     "metadata": {},
     "output_type": "execute_result"
    }
   ],
   "source": [
    "earliest_publication = min(publication_years)\n",
    "earliest_publication"
   ]
  },
  {
   "cell_type": "code",
   "execution_count": 15,
   "metadata": {},
   "outputs": [
    {
     "data": {
      "text/plain": [
       "2020"
      ]
     },
     "execution_count": 15,
     "metadata": {},
     "output_type": "execute_result"
    }
   ],
   "source": [
    "latest_publication = max(publication_years)\n",
    "latest_publication"
   ]
  },
  {
   "cell_type": "code",
   "execution_count": 16,
   "metadata": {},
   "outputs": [],
   "source": [
    "import numpy as np\n",
    "list_of_years = list(np.arange(earliest_publication,latest_publication+1))"
   ]
  },
  {
   "cell_type": "code",
   "execution_count": 17,
   "metadata": {},
   "outputs": [
    {
     "data": {
      "image/png": "[encoded data removed]",
      "text/plain": [
       "<Figure size 432x288 with 1 Axes>"
      ]
     },
     "metadata": {
      "needs_background": "light"
     },
     "output_type": "display_data"
    }
   ],
   "source": [
    "import matplotlib.pyplot as plt\n",
    "hist_data = plt.hist( publication_years, bins=list_of_years )\n",
    "plt.title(\"Publication years of the CORD-19 articles\")\n",
    "plt.xlabel(\"Year\")\n",
    "plt.ylabel(\"Nr of articles published in that year\")\n",
    "plt.show()"
   ]
  },
  {
   "cell_type": "markdown",
   "metadata": {},
   "source": [
    "# Search for evidence in article titles"
   ]
  },
  {
   "cell_type": "code",
   "execution_count": 18,
   "metadata": {},
   "outputs": [],
   "source": [
    "titles_column = df[\"title\"]"
   ]
  },
  {
   "cell_type": "code",
   "execution_count": 19,
   "metadata": {},
   "outputs": [
    {
     "data": {
      "text/plain": [
       "pandas.core.series.Series"
      ]
     },
     "execution_count": 19,
     "metadata": {},
     "output_type": "execute_result"
    }
   ],
   "source": [
    "type(titles_column)"
   ]
  },
  {
   "cell_type": "code",
   "execution_count": 20,
   "metadata": {},
   "outputs": [
    {
     "data": {
      "text/plain": [
       "0        Airborne rhinovirus detection and effect of ul...\n",
       "1          Discovering human history from stomach bacteria\n",
       "2           A new recruit for the army of the men of death\n",
       "3        Association of HLA class I with severe acute r...\n",
       "4         A double epidemic model for the SARS propagation\n",
       "                               ...                        \n",
       "51073    Prevalence of antibodies against transmissible...\n",
       "51074    Can we increase public awareness without creat...\n",
       "51075    Fast degrading polyesters as siRNA nano-carrie...\n",
       "51076    eIF3f: A central regulator of the antagonism a...\n",
       "51077    The pathogenic role of virus-specific antibody...\n",
       "Name: title, Length: 51078, dtype: object"
      ]
     },
     "execution_count": 20,
     "metadata": {},
     "output_type": "execute_result"
    }
   ],
   "source": [
    "titles_column"
   ]
  },
  {
   "cell_type": "code",
   "execution_count": 21,
   "metadata": {},
   "outputs": [],
   "source": [
    "counter_per_drug = np.zeros( nr_drug_candidates, np.int)"
   ]
  },
  {
   "cell_type": "code",
   "execution_count": 22,
   "metadata": {},
   "outputs": [
    {
     "data": {
      "text/plain": [
       "array([0, 0, 0, 0, 0, 0, 0, 0, 0, 0, 0, 0, 0, 0, 0])"
      ]
     },
     "execution_count": 22,
     "metadata": {},
     "output_type": "execute_result"
    }
   ],
   "source": [
    "counter_per_drug"
   ]
  },
  {
   "cell_type": "code",
   "execution_count": 23,
   "metadata": {},
   "outputs": [
    {
     "name": "stdout",
     "output_type": "stream",
     "text": [
      "article #166 mentions 'chloroquine': In vitro inhibition of human influenza A virus replication by chloroquine\n",
      "article #306 mentions 'chloroquine': Different pH requirements are associated with divergent inhibitory effects of chloroquine on human and avian influenza A viruses\n",
      "article #1554 mentions 'azithromycin': Randomized placebo-controlled trial on azithromycin to reduce the morbidity of bronchiolitis in Indigenous Australian infants: rationale and protocol\n",
      "article #3306 mentions 'chloroquine': Dual role of chloroquine in liver ischemia reperfusion injury: reduction of liver damage in early phase, but aggravation in late phase\n",
      "article #4995 mentions 'chloroquine': Studying the effect of chloroquine on sporozoite-induced protection and immune responses in Plasmodium berghei malaria\n",
      "article #7771 mentions 'chloroquine': Targeting endosomal acidification by chloroquine analogs as a promising strategy for the treatment of emerging viral diseases\n",
      "article #8678 mentions 'lopinavir': Treatment of Middle East Respiratory Syndrome with a combination of lopinavir-ritonavir and interferon-β1b (MIRACLE trial): study protocol for a randomized controlled trial\n",
      "article #8678 mentions 'ritonavir': Treatment of Middle East Respiratory Syndrome with a combination of lopinavir-ritonavir and interferon-β1b (MIRACLE trial): study protocol for a randomized controlled trial\n",
      "article #10555 mentions 'chloroquine': Hemozoin‐induced activation of human monocytes toward M2‐like phenotype is partially reversed by antimalarial drugs—chloroquine and artemisinin\n",
      "article #11873 mentions 'lopinavir': Treatment of Middle East respiratory syndrome with a combination of lopinavir/ritonavir and interferon-β1b (MIRACLE trial): statistical analysis plan for a recursive two-stage group sequential randomized controlled trial\n",
      "article #11873 mentions 'ritonavir': Treatment of Middle East respiratory syndrome with a combination of lopinavir/ritonavir and interferon-β1b (MIRACLE trial): statistical analysis plan for a recursive two-stage group sequential randomized controlled trial\n",
      "article #11906 mentions 'remdesivir': Comparative therapeutic efficacy of remdesivir and combination lopinavir, ritonavir, and interferon beta against MERS-CoV\n",
      "article #11906 mentions 'lopinavir': Comparative therapeutic efficacy of remdesivir and combination lopinavir, ritonavir, and interferon beta against MERS-CoV\n",
      "article #11906 mentions 'ritonavir': Comparative therapeutic efficacy of remdesivir and combination lopinavir, ritonavir, and interferon beta against MERS-CoV\n",
      "article #11906 mentions 'interferon beta': Comparative therapeutic efficacy of remdesivir and combination lopinavir, ritonavir, and interferon beta against MERS-CoV\n",
      "article #12262 mentions 'chloroquine': Hydroxychloroquine, a less toxic derivative of chloroquine, is effective in inhibiting SARS-CoV-2 infection in vitro\n",
      "article #13392 mentions 'chloroquine': Inhibition of hepatitis C virus replication by chloroquine targeting virus-associated autophagy\n",
      "article #13961 mentions 'chloroquine': Hydroxychloroquine: From Malaria to Autoimmunity\n",
      "article #14507 mentions 'chloroquine': Hydroxychloroquine in SLE: old drug, new perspectives\n",
      "article #21187 mentions 'ritonavir': In HIV/hepatitis C virus co-infected patients, higher 25-hydroxyvitamin D concentrations were not related to hepatitis C virus treatment responses but were associated with ritonavir use(1)(2)(3)(4)\n",
      "article #21305 mentions 'lopinavir': Role of lopinavir/ritonavir in the treatment of SARS: initial virological and clinical findings\n",
      "article #21305 mentions 'ritonavir': Role of lopinavir/ritonavir in the treatment of SARS: initial virological and clinical findings\n",
      "article #22117 mentions 'chloroquine': Hydroxychloroquine-Inhibited Dengue Virus Is Associated with Host Defense Machinery\n",
      "article #24438 mentions 'chloroquine': Pharmacology of Chloroquine and Hydroxychloroquine\n",
      "article #25063 mentions 'chloroquine': A Rush to Judgment? Rapid Reporting and Dissemination of Results and Its Consequences Regarding the Use of Hydroxychloroquine for COVID-19\n",
      "article #25064 mentions 'chloroquine': Use of Hydroxychloroquine and Chloroquine During the COVID-19 Pandemic: What Every Clinician Should Know\n",
      "article #25653 mentions 'azithromycin': Amoxicillin–clavulanate versus azithromycin for respiratory exacerbations in children with bronchiectasis (BEST-2): a multicentre, double-blind, non-inferiority, randomised controlled trial\n",
      "article #26290 mentions 'remdesivir': The antiviral compound remdesivir potently inhibits RNA-dependent RNA polymerase from Middle East respiratory syndrome coronavirus\n",
      "article #26299 mentions 'lopinavir': Comparative effectiveness and safety of ribavirin plus interferon-alpha, lopinavir/ritonavir plus interferon-alpha and ribavirin plus lopinavir/ritonavir plus interferon-alphain in patients with mild to moderate novel coronavirus pneumonia\n",
      "article #26299 mentions 'ritonavir': Comparative effectiveness and safety of ribavirin plus interferon-alpha, lopinavir/ritonavir plus interferon-alpha and ribavirin plus lopinavir/ritonavir plus interferon-alphain in patients with mild to moderate novel coronavirus pneumonia\n",
      "article #26420 mentions 'lopinavir': Drug interaction monitoring of lopinavir / ritonavir in COVID-19 patients with cancer\n",
      "article #26420 mentions 'ritonavir': Drug interaction monitoring of lopinavir / ritonavir in COVID-19 patients with cancer\n",
      "article #26533 mentions 'chloroquine': Expert consensus on chloroquine phosphate for the treatment of novel coronavirus pneumonia\n",
      "article #29649 mentions 'chloroquine': COVID-19 and Chloroquine/Hydroxychloroquine: is there Ophthalmological Concern?\n",
      "article #30101 mentions 'lopinavir': Remdesivir, lopinavir, emetine, and homoharringtonine inhibit SARS-CoV-2 replication in vitro\n",
      "article #30601 mentions 'chloroquine': No Evidence of Rapid Antiviral Clearance or Clinical Benefit with the Combination of Hydroxychloroquine and Azithromycin in Patients with Severe COVID-19 Infection\n",
      "article #30858 mentions 'chloroquine': Aminoquinolines against coronavirus disease 2019 (COVID-19): chloroquine or hydroxychloroquine\n",
      "article #30858 mentions 'hydroxychloroquine': Aminoquinolines against coronavirus disease 2019 (COVID-19): chloroquine or hydroxychloroquine\n",
      "article #30862 mentions 'chloroquine': Hydroxychloroquine and azithromycin as a treatment of COVID-19: results of an open-label non-randomized clinical trial\n",
      "article #30862 mentions 'azithromycin': Hydroxychloroquine and azithromycin as a treatment of COVID-19: results of an open-label non-randomized clinical trial\n",
      "article #30867 mentions 'chloroquine': Structural and molecular modeling studies reveal a new mechanism of action of chloroquine and hydroxychloroquine against SARS-CoV-2 infection\n",
      "article #30867 mentions 'hydroxychloroquine': Structural and molecular modeling studies reveal a new mechanism of action of chloroquine and hydroxychloroquine against SARS-CoV-2 infection\n",
      "article #31000 mentions 'chloroquine': Cardiovascular risks of hydroxychloroquine in treatment and prophylaxis of COVID-19 patients: A scientific statement from the Indian Heart Rhythm Society\n",
      "article #31000 mentions 'hydroxychloroquine': Cardiovascular risks of hydroxychloroquine in treatment and prophylaxis of COVID-19 patients: A scientific statement from the Indian Heart Rhythm Society\n",
      "article #31887 mentions 'chloroquine': Chloroquine and hydroxychloroquine in the treatment of COVID-19 with or without diabetes: A systematic search and a narrative review with a special reference to India and other developing countries\n",
      "article #31887 mentions 'hydroxychloroquine': Chloroquine and hydroxychloroquine in the treatment of COVID-19 with or without diabetes: A systematic search and a narrative review with a special reference to India and other developing countries\n",
      "article #32058 mentions 'tocilizumab': Favorable changes of CT findings in a patient with COVID-19 pneumonia after treatment with tocilizumab\n",
      "article #32201 mentions 'chloroquine': Coalition: Advocacy for prospective clinical trials to test the post-exposure potential of hydroxychloroquine against COVID-19\n",
      "article #32201 mentions 'hydroxychloroquine': Coalition: Advocacy for prospective clinical trials to test the post-exposure potential of hydroxychloroquine against COVID-19\n",
      "article #32348 mentions 'chloroquine': Excitement around hydroxychloroquine for treating COVID-19 causes challenges for rheumatology\n",
      "article #32348 mentions 'hydroxychloroquine': Excitement around hydroxychloroquine for treating COVID-19 causes challenges for rheumatology\n",
      "article #32351 mentions 'chloroquine': Caution and clarity required in the use of chloroquine for COVID-19\n",
      "article #33021 mentions 'ciclesonide': The inhaled corticosteroid ciclesonide blocks coronavirus RNA replication by targeting viral NSP15\n",
      "article #33116 mentions 'chloroquine': Hydroxychloroquine and Azithromycin as a treatment of COVID-19: preliminary results of an open-label non-randomized clinical trial\n",
      "article #33196 mentions 'lopinavir': An exploratory randomized, controlled study on the efficacy and safety of lopinavir/ritonavir or arbidol treating adult patients hospitalized with mild/moderate COVID-19 (ELACOI)\n",
      "article #33196 mentions 'ritonavir': An exploratory randomized, controlled study on the efficacy and safety of lopinavir/ritonavir or arbidol treating adult patients hospitalized with mild/moderate COVID-19 (ELACOI)\n",
      "article #33273 mentions 'chloroquine': Efficacy of hydroxychloroquine in patients with COVID-19: results of a randomized clinical trial\n",
      "article #33273 mentions 'hydroxychloroquine': Efficacy of hydroxychloroquine in patients with COVID-19: results of a randomized clinical trial\n",
      "article #33280 mentions 'chloroquine': Quantifying treatment effects of hydroxychloroquine and azithromycin for COVID-19: a secondary analysis of an open label non-randomized clinical trial (Gautret et al, 2020)\n",
      "article #33280 mentions 'hydroxychloroquine': Quantifying treatment effects of hydroxychloroquine and azithromycin for COVID-19: a secondary analysis of an open label non-randomized clinical trial (Gautret et al, 2020)\n",
      "article #33280 mentions 'azithromycin': Quantifying treatment effects of hydroxychloroquine and azithromycin for COVID-19: a secondary analysis of an open label non-randomized clinical trial (Gautret et al, 2020)\n",
      "article #33353 mentions 'chloroquine': Role of Chloroquine and Hydroxychloroquine in the Treatment of COVID-19 Infection- A Systematic Literature Review\n",
      "article #33531 mentions 'chloroquine': Azithromycin and ciprofloxacin have a chloroquine-like effect on respiratory epithelial cells\n",
      "article #33539 mentions 'chloroquine': Combined prophylactic and therapeutic use maximizes hydroxychloroquine anti-SARS-CoV-2 effects in vitro\n",
      "article #33539 mentions 'hydroxychloroquine': Combined prophylactic and therapeutic use maximizes hydroxychloroquine anti-SARS-CoV-2 effects in vitro\n",
      "article #33630 mentions 'chloroquine': Fatal toxicity of chloroquine or hydroxychloroquine with metformin in mice\n",
      "article #33630 mentions 'hydroxychloroquine': Fatal toxicity of chloroquine or hydroxychloroquine with metformin in mice\n",
      "article #33645 mentions 'chloroquine': Reply to Gautret et al. 2020: A Bayesian reanalysis of the effects of hydroxychloroquine and azithromycin on viral carriage in patients with COVID-19\n",
      "article #33645 mentions 'hydroxychloroquine': Reply to Gautret et al. 2020: A Bayesian reanalysis of the effects of hydroxychloroquine and azithromycin on viral carriage in patients with COVID-19\n",
      "article #33645 mentions 'azithromycin': Reply to Gautret et al. 2020: A Bayesian reanalysis of the effects of hydroxychloroquine and azithromycin on viral carriage in patients with COVID-19\n",
      "article #33728 mentions 'chloroquine': The QT Interval in Patients with SARS-CoV-2 Infection Treated with Hydroxychloroquine/Azithromycin\n",
      "article #33807 mentions 'chloroquine': Chloroquine and hydroxychloroquine for the treatment of COVID-19: A living systematic review protocol\n",
      "article #33807 mentions 'hydroxychloroquine': Chloroquine and hydroxychloroquine for the treatment of COVID-19: A living systematic review protocol\n",
      "article #34581 mentions 'lopinavir': Dose prediction of lopinavir/ritonavir for 2019-novel coronavirus (2019-nCoV) infection based on mathematic modeling\n",
      "article #34581 mentions 'ritonavir': Dose prediction of lopinavir/ritonavir for 2019-novel coronavirus (2019-nCoV) infection based on mathematic modeling\n",
      "article #37741 mentions 'lopinavir': Early antiviral therapy of abidor combined with lopinavir/ritonavir and re-combinant interferonα-2b in patients with novel coronavirus pneumonia in Zhejiang: A multicenter and prospective study\n",
      "article #37741 mentions 'ritonavir': Early antiviral therapy of abidor combined with lopinavir/ritonavir and re-combinant interferonα-2b in patients with novel coronavirus pneumonia in Zhejiang: A multicenter and prospective study\n",
      "article #37762 mentions 'lopinavir': Efficacies of lopinavir/ritonavir and abidol in the treatment of novel coronavirus pneumonia\n",
      "article #37762 mentions 'ritonavir': Efficacies of lopinavir/ritonavir and abidol in the treatment of novel coronavirus pneumonia\n",
      "article #37917 mentions 'remdesivir': Strategies against the novel coronavirus: Possible applications of the experimental Ebola drug remdesivir are being tested\n",
      "article #38056 mentions 'chloroquine': Remdesivir and chloroquine effectively inhibit the recently emerged novel coronavirus (2019-nCoV) in vitro\n",
      "article #38203 mentions 'chloroquine': In Vitro Antiviral Activity and Projection of Optimized Dosing Design of Hydroxychloroquine for the Treatment of Severe Acute Respiratory Syndrome Coronavirus 2 (SARS-CoV-2)\n",
      "article #38748 mentions 'chloroquine': Effect of chloroquine on feline infectious peritonitis virus infection in vitro and in vivo\n",
      "article #38994 mentions 'chloroquine': Hypothesis links emergence of chloroquine-resistant malaria and other intracellular pathogens and suggests a new strategy for treatment of diseases caused by intracellular parasites\n",
      "article #40801 mentions 'favipiravir': T-705 (favipiravir) and related compounds: Novel broad-spectrum inhibitors of RNA viral infections\n",
      "article #40931 mentions 'chloroquine': Chloroquine and hydroxychloroquine as available weapons to fight COVID-19\n",
      "article #40931 mentions 'hydroxychloroquine': Chloroquine and hydroxychloroquine as available weapons to fight COVID-19\n",
      "article #41115 mentions 'chloroquine': Recycling of chloroquine and its hydroxyl analogue to face bacterial, fungal and viral infections in the 21st century\n",
      "article #42246 mentions 'remdesivir': Arguments in favour of remdesivir for treating SARS-CoV-2 infections\n",
      "article #42722 mentions 'chloroquine': Evaluation of Crimean-Congo hemorrhagic fever virus in vitro inhibition by chloroquine and chlorpromazine, two FDA approved molecules\n",
      "article #43811 mentions 'chloroquine': New insights on the antiviral effects of chloroquine against coronavirus: what to expect for COVID-19?\n",
      "article #44374 mentions 'chloroquine': Effects of chloroquine on viral infections: an old drug against today's diseases\n",
      "article #44732 mentions 'remdesivir': Prophylactic and therapeutic remdesivir (GS-5734) treatment in the rhesus macaque model of MERS-CoV infection\n",
      "article #44993 mentions 'chloroquine': On the use of chloroquine for chikungunya\n",
      "article #45080 mentions 'chloroquine': Evaluation of acute and sublethal effects of chloroquine (C(18)H(26)CIN(3)) on certain enzymological and histopathological biomarker responses of a freshwater fish Cyprinus carpio\n",
      "article #45999 mentions 'remdesivir': Current knowledge about the antivirals remdesivir (GS-5734) and GS-441524 as therapeutic options for coronaviruses\n",
      "article #46123 mentions 'chloroquine': The timing is right: Evolution of AIDS-causing HIV strains is consistent with history of chloroquine use\n",
      "article #46172 mentions 'chloroquine': Inhibition of human coronavirus 229E infection in human epithelial lung cells (L132) by chloroquine: Involvement of p38 MAPK and ERK\n",
      "article #46310 mentions 'remdesivir': Broad spectrum antiviral remdesivir inhibits human endemic and zoonotic deltacoronaviruses with a highly divergent RNA dependent RNA polymerase\n",
      "article #48833 mentions 'chloroquine': Development and in vitro evaluation of chloroquine gels as microbicides against HIV-1 infection\n",
      "article #48978 mentions 'chloroquine': In vitro inhibition of severe acute respiratory syndrome coronavirus by chloroquine\n",
      "article #49210 mentions 'chloroquine': Use of chloroquine in viral diseases\n",
      "article #49300 mentions 'chloroquine': New insights into the antiviral effects of chloroquine\n",
      "article #49788 mentions 'chloroquine': Of chloroquine and COVID-19\n",
      "article #49904 mentions 'lopinavir': Patients of COVID-19 may benefit from sustained lopinavir-combined regimen and the increase of eosinophil may predict the outcome of COVID-19 progression\n",
      "article #50162 mentions 'lopinavir': Molecular dynamic simulations analysis of ritronavir and lopinavir as SARS-CoV 3CLpro inhibitors\n",
      "article #50682 mentions 'chloroquine': A systematic review on the efficacy and safety of chloroquine for the treatment of COVID-19\n"
     ]
    }
   ],
   "source": [
    "for article_nr,title in enumerate(titles_column):\n",
    "    \n",
    "    # some titles are NaN!\n",
    "    if not isinstance(title,str):\n",
    "        #print(\"Title of article {0} is not given\".format(article_nr))\n",
    "        continue\n",
    "    \n",
    "    for drug_nr,drug in enumerate(drug_candidates_lower):\n",
    "        \n",
    "        found = False\n",
    "        if PARAM_filter_for_specific_virus:\n",
    "            if (drug in title) and (PARAM_virus_name in title):\n",
    "                found = True\n",
    "        else:\n",
    "            if drug in title:\n",
    "                found = True\n",
    "                \n",
    "        if found:\n",
    "            print(\"article #{0} mentions '{1}': {2}\".format(article_nr, drug, title))        \n",
    "            counter_per_drug[drug_nr] += 1"
   ]
  },
  {
   "cell_type": "markdown",
   "metadata": {},
   "source": [
    "Now let us plot how often each drug candidate is mentioned in a title:"
   ]
  },
  {
   "cell_type": "code",
   "execution_count": 24,
   "metadata": {},
   "outputs": [
    {
     "data": {
      "image/png": "[encoded data removed]",
      "text/plain": [
       "<Figure size 432x288 with 1 Axes>"
      ]
     },
     "metadata": {
      "needs_background": "light"
     },
     "output_type": "display_data"
    }
   ],
   "source": [
    "fig1, ax1 = plt.subplots()\n",
    "\n",
    "ax1.bar(drug_candidates_lower, counter_per_drug, align='center', alpha=0.5)\n",
    "\n",
    "xticks = np.arange(len(drug_candidates_lower))\n",
    "ax1.set_xticks(xticks)\n",
    "ax1.set_xticklabels(drug_candidates_lower, rotation=40, ha=\"right\")\n",
    "\n",
    "ax1.set_ylim(0.0, max(counter_per_drug) + 50)\n",
    "\n",
    "ax1.set_title( \"How often is each drug candidate mentioned in an article TITLE\\nof the {0} dataset?\\n\"\n",
    "              .format(PARAM_dataset_name), fontsize=15 )\n",
    "\n",
    "ax1.set_ylabel( \"Nr of times mentioned\" )\n",
    "\n",
    "for i, counter in enumerate(counter_per_drug):\n",
    "    ax1.text(i - 0.3, counter + 5, \"{0}\".format(counter), color='black')\n",
    "    \n",
    "plt.show()"
   ]
  },
  {
   "cell_type": "markdown",
   "metadata": {},
   "source": [
    "# Search for evidence in article abstracts"
   ]
  },
  {
   "cell_type": "code",
   "execution_count": 25,
   "metadata": {},
   "outputs": [],
   "source": [
    "abstract_column = df[\"abstract\"]"
   ]
  },
  {
   "cell_type": "code",
   "execution_count": 26,
   "metadata": {},
   "outputs": [
    {
     "data": {
      "text/plain": [
       "0        BACKGROUND: Rhinovirus, the most common cause ...\n",
       "1        Recent analyses of human pathogens have reveal...\n",
       "2        The army of the men of death, in John Bunyan's...\n",
       "3        BACKGROUND: The human leukocyte antigen (HLA) ...\n",
       "4        BACKGROUND: An epidemic of a Severe Acute Resp...\n",
       "                               ...                        \n",
       "51073    Abstract Transmissible gastroenteritis (TGE) i...\n",
       "51074                                                  NaN\n",
       "51075    Abstract A potential siRNA carrier for pulmona...\n",
       "51076    Abstract The eukaryotic initiation factor 3 su...\n",
       "51077                                                  NaN\n",
       "Name: abstract, Length: 51078, dtype: object"
      ]
     },
     "execution_count": 26,
     "metadata": {},
     "output_type": "execute_result"
    }
   ],
   "source": [
    "abstract_column"
   ]
  },
  {
   "cell_type": "code",
   "execution_count": 27,
   "metadata": {},
   "outputs": [
    {
     "data": {
      "text/plain": [
       "0        BACKGROUND: Rhinovirus, the most common cause ...\n",
       "1        Recent analyses of human pathogens have reveal...\n",
       "2        The army of the men of death, in John Bunyan's...\n",
       "3        BACKGROUND: The human leukocyte antigen (HLA) ...\n",
       "4        BACKGROUND: An epidemic of a Severe Acute Resp...\n",
       "                               ...                        \n",
       "51073    Abstract Transmissible gastroenteritis (TGE) i...\n",
       "51074                                                  NaN\n",
       "51075    Abstract A potential siRNA carrier for pulmona...\n",
       "51076    Abstract The eukaryotic initiation factor 3 su...\n",
       "51077                                                  NaN\n",
       "Name: abstract, Length: 51078, dtype: object"
      ]
     },
     "execution_count": 27,
     "metadata": {},
     "output_type": "execute_result"
    }
   ],
   "source": [
    "abstract_column"
   ]
  },
  {
   "cell_type": "code",
   "execution_count": 28,
   "metadata": {},
   "outputs": [
    {
     "data": {
      "text/plain": [
       "'BACKGROUND: Rhinovirus, the most common cause of upper respiratory tract infections, has been implicated in asthma exacerbations and possibly asthma deaths. Although the method of transmission of rhinoviruses is disputed, several studies have demonstrated that aerosol transmission is a likely method of transmission among adults. As a first step in studies of possible airborne rhinovirus transmission, we developed methods to detect aerosolized rhinovirus by extending existing technology for detecting infectious agents in nasal specimens. METHODS: We aerosolized rhinovirus in a small aerosol chamber. Experiments were conducted with decreasing concentrations of rhinovirus. To determine the effect of UV irradiation on detection of rhinoviral aerosols, we also conducted experiments in which we exposed aerosols to a UV dose of 684 mJ/m(2). Aerosols were collected on Teflon filters and rhinovirus recovered in Qiagen AVL buffer using the Qiagen QIAamp Viral RNA Kit (Qiagen Corp., Valencia, California) followed by semi-nested RT-PCR and detection by gel electrophoresis. RESULTS: We obtained positive results from filter samples that had collected at least 1.3 TCID(50 )of aerosolized rhinovirus. Ultraviolet irradiation of airborne virus at doses much greater than those used in upper-room UV germicidal irradiation applications did not inhibit subsequent detection with the RT-PCR assay. CONCLUSION: The air sampling and extraction methodology developed in this study should be applicable to the detection of rhinovirus and other airborne viruses in the indoor air of offices and schools. This method, however, cannot distinguish UV inactivated virus from infectious viral particles.'"
      ]
     },
     "execution_count": 28,
     "metadata": {},
     "output_type": "execute_result"
    }
   ],
   "source": [
    "abstract_column[0]"
   ]
  },
  {
   "cell_type": "code",
   "execution_count": 29,
   "metadata": {},
   "outputs": [],
   "source": [
    "counter_per_drug = np.zeros( nr_drug_candidates, np.int)"
   ]
  },
  {
   "cell_type": "code",
   "execution_count": 30,
   "metadata": {},
   "outputs": [
    {
     "data": {
      "text/plain": [
       "array([0, 0, 0, 0, 0, 0, 0, 0, 0, 0, 0, 0, 0, 0, 0])"
      ]
     },
     "execution_count": 30,
     "metadata": {},
     "output_type": "execute_result"
    }
   ],
   "source": [
    "counter_per_drug"
   ]
  },
  {
   "cell_type": "code",
   "execution_count": 31,
   "metadata": {},
   "outputs": [
    {
     "name": "stdout",
     "output_type": "stream",
     "text": [
      "There are 8726 missing article abstracts!\n"
     ]
    }
   ],
   "source": [
    "nr_of_missing_abstracts = 0\n",
    "\n",
    "for article_nr,abstract in enumerate(abstract_column):\n",
    "    \n",
    "    # some abstracts are NaN!\n",
    "    if not isinstance(abstract,str):\n",
    "        #print(\"Abstract {0} is not given\".format(article_nr))\n",
    "        nr_of_missing_abstracts += 1\n",
    "        \n",
    "print(\"There are {0} missing article abstracts!\".format(nr_of_missing_abstracts))        "
   ]
  },
  {
   "cell_type": "code",
   "execution_count": 32,
   "metadata": {},
   "outputs": [
    {
     "name": "stdout",
     "output_type": "stream",
     "text": [
      "Abstract of article #101 mentions 'chloroquine'\n",
      "Abstract of article #130 mentions 'interferon beta'\n",
      "Abstract of article #166 mentions 'chloroquine'\n",
      "Abstract of article #212 mentions 'lopinavir'\n",
      "Abstract of article #212 mentions 'ritonavir'\n",
      "Abstract of article #306 mentions 'chloroquine'\n",
      "Abstract of article #814 mentions 'interferon beta'\n",
      "Abstract of article #1079 mentions 'chloroquine'\n",
      "Abstract of article #1554 mentions 'azithromycin'\n",
      "Abstract of article #2497 mentions 'chloroquine'\n",
      "Abstract of article #2839 mentions 'azithromycin'\n",
      "Abstract of article #3009 mentions 'chloroquine'\n",
      "Abstract of article #3204 mentions 'chloroquine'\n",
      "Abstract of article #3241 mentions 'chloroquine'\n",
      "Abstract of article #3264 mentions 'interferon beta'\n",
      "Abstract of article #3306 mentions 'chloroquine'\n",
      "Abstract of article #3517 mentions 'azithromycin'\n",
      "Abstract of article #3849 mentions 'chloroquine'\n",
      "Abstract of article #3948 mentions 'chloroquine'\n",
      "Abstract of article #3997 mentions 'chloroquine'\n",
      "Abstract of article #4788 mentions 'chloroquine'\n",
      "Abstract of article #4995 mentions 'chloroquine'\n",
      "Abstract of article #5004 mentions 'interferon beta'\n",
      "Abstract of article #5107 mentions 'chloroquine'\n",
      "Abstract of article #5156 mentions 'chloroquine'\n",
      "Abstract of article #5211 mentions 'chloroquine'\n",
      "Abstract of article #5211 mentions 'hydroxychloroquine'\n",
      "Abstract of article #5640 mentions 'ciclesonide'\n",
      "Abstract of article #5733 mentions 'azithromycin'\n",
      "Abstract of article #6285 mentions 'interferon beta'\n",
      "Abstract of article #6600 mentions 'chloroquine'\n",
      "Abstract of article #6929 mentions 'chloroquine'\n",
      "Abstract of article #6929 mentions 'hydroxychloroquine'\n",
      "Abstract of article #7170 mentions 'chloroquine'\n",
      "Abstract of article #7396 mentions 'chloroquine'\n",
      "Abstract of article #7482 mentions 'azithromycin'\n",
      "Abstract of article #7708 mentions 'interferon beta'\n",
      "Abstract of article #7771 mentions 'chloroquine'\n",
      "Abstract of article #8108 mentions 'azithromycin'\n",
      "Abstract of article #8678 mentions 'lopinavir'\n",
      "Abstract of article #8678 mentions 'ritonavir'\n",
      "Abstract of article #8767 mentions 'chloroquine'\n",
      "Abstract of article #8839 mentions 'remdesivir'\n",
      "Abstract of article #8908 mentions 'chloroquine'\n",
      "Abstract of article #8990 mentions 'favipiravir'\n",
      "Abstract of article #10022 mentions 'chloroquine'\n",
      "Abstract of article #10193 mentions 'chloroquine'\n",
      "Abstract of article #10365 mentions 'azithromycin'\n",
      "Abstract of article #10479 mentions 'interferon beta'\n",
      "Abstract of article #10555 mentions 'chloroquine'\n",
      "Abstract of article #10812 mentions 'remdesivir'\n",
      "Abstract of article #10919 mentions 'azithromycin'\n",
      "Abstract of article #11603 mentions 'interferon beta'\n",
      "Abstract of article #11873 mentions 'lopinavir'\n",
      "Abstract of article #11873 mentions 'ritonavir'\n",
      "Abstract of article #11906 mentions 'remdesivir'\n",
      "Abstract of article #11906 mentions 'lopinavir'\n",
      "Abstract of article #11906 mentions 'ritonavir'\n",
      "Abstract of article #11906 mentions 'interferon beta'\n",
      "Abstract of article #12087 mentions 'favipiravir'\n",
      "Abstract of article #12563 mentions 'chloroquine'\n",
      "Abstract of article #12647 mentions 'chloroquine'\n",
      "Abstract of article #12731 mentions 'chloroquine'\n",
      "Abstract of article #12950 mentions 'chloroquine'\n",
      "Abstract of article #12969 mentions 'chloroquine'\n",
      "Abstract of article #13392 mentions 'chloroquine'\n",
      "Abstract of article #13398 mentions 'lopinavir'\n",
      "Abstract of article #13398 mentions 'ritonavir'\n",
      "Abstract of article #13775 mentions 'chloroquine'\n",
      "Abstract of article #13961 mentions 'chloroquine'\n",
      "Abstract of article #13961 mentions 'hydroxychloroquine'\n",
      "Abstract of article #13996 mentions 'interferon beta'\n",
      "Abstract of article #14149 mentions 'azithromycin'\n",
      "Abstract of article #14759 mentions 'chloroquine'\n",
      "Abstract of article #14872 mentions 'lopinavir'\n",
      "Abstract of article #14872 mentions 'ritonavir'\n",
      "Abstract of article #15318 mentions 'lopinavir'\n",
      "Abstract of article #15817 mentions 'lopinavir'\n",
      "Abstract of article #15817 mentions 'ritonavir'\n",
      "Abstract of article #16606 mentions 'chloroquine'\n",
      "Abstract of article #16980 mentions 'chloroquine'\n",
      "Abstract of article #17263 mentions 'chloroquine'\n",
      "Abstract of article #17501 mentions 'lopinavir'\n",
      "Abstract of article #17789 mentions 'lopinavir'\n",
      "Abstract of article #17789 mentions 'ritonavir'\n",
      "Abstract of article #17997 mentions 'chloroquine'\n",
      "Abstract of article #18064 mentions 'chloroquine'\n",
      "Abstract of article #18064 mentions 'hydroxychloroquine'\n",
      "Abstract of article #18158 mentions 'interferon beta'\n",
      "Abstract of article #18493 mentions 'azithromycin'\n",
      "Abstract of article #18829 mentions 'favipiravir'\n",
      "Abstract of article #18837 mentions 'chloroquine'\n",
      "Abstract of article #19186 mentions 'chloroquine'\n",
      "Abstract of article #19191 mentions 'chloroquine'\n",
      "Abstract of article #19420 mentions 'interferon beta'\n",
      "Abstract of article #19540 mentions 'azithromycin'\n",
      "Abstract of article #19618 mentions 'chloroquine'\n",
      "Abstract of article #20003 mentions 'chloroquine'\n",
      "Abstract of article #20153 mentions 'interferon beta'\n",
      "Abstract of article #20641 mentions 'chloroquine'\n",
      "Abstract of article #20737 mentions 'chloroquine'\n",
      "Abstract of article #20746 mentions 'interferon beta'\n",
      "Abstract of article #21034 mentions 'chloroquine'\n",
      "Abstract of article #21034 mentions 'hydroxychloroquine'\n",
      "Abstract of article #21187 mentions 'ritonavir'\n",
      "Abstract of article #21305 mentions 'lopinavir'\n",
      "Abstract of article #21305 mentions 'ritonavir'\n",
      "Abstract of article #21386 mentions 'favipiravir'\n",
      "Abstract of article #21398 mentions 'chloroquine'\n",
      "Abstract of article #21522 mentions 'favipiravir'\n",
      "Abstract of article #22004 mentions 'favipiravir'\n",
      "Abstract of article #22018 mentions 'interferon beta'\n",
      "Abstract of article #22117 mentions 'chloroquine'\n",
      "Abstract of article #22200 mentions 'chloroquine'\n",
      "Abstract of article #22200 mentions 'lopinavir'\n",
      "Abstract of article #22285 mentions 'remdesivir'\n",
      "Abstract of article #22487 mentions 'chloroquine'\n",
      "Abstract of article #22558 mentions 'chloroquine'\n",
      "Abstract of article #22731 mentions 'ritonavir'\n",
      "Abstract of article #22791 mentions 'lopinavir'\n",
      "Abstract of article #22791 mentions 'ritonavir'\n",
      "Abstract of article #22813 mentions 'azithromycin'\n",
      "Abstract of article #22875 mentions 'lopinavir'\n",
      "Abstract of article #22875 mentions 'ritonavir'\n",
      "Abstract of article #23240 mentions 'chloroquine'\n",
      "Abstract of article #23240 mentions 'remdesivir'\n",
      "Abstract of article #23240 mentions 'lopinavir'\n",
      "Abstract of article #23240 mentions 'ritonavir'\n",
      "Abstract of article #23440 mentions 'chloroquine'\n",
      "Abstract of article #23474 mentions 'chloroquine'\n",
      "Abstract of article #23474 mentions 'hydroxychloroquine'\n",
      "Abstract of article #23474 mentions 'remdesivir'\n",
      "Abstract of article #23474 mentions 'lopinavir'\n",
      "Abstract of article #23474 mentions 'ritonavir'\n",
      "Abstract of article #23474 mentions 'favipiravir'\n",
      "Abstract of article #23862 mentions 'azithromycin'\n",
      "Abstract of article #24007 mentions 'chloroquine'\n",
      "Abstract of article #24552 mentions 'favipiravir'\n",
      "Abstract of article #25063 mentions 'chloroquine'\n",
      "Abstract of article #25063 mentions 'hydroxychloroquine'\n",
      "Abstract of article #25064 mentions 'chloroquine'\n",
      "Abstract of article #25064 mentions 'hydroxychloroquine'\n",
      "Abstract of article #25653 mentions 'azithromycin'\n",
      "Abstract of article #25699 mentions 'favipiravir'\n",
      "Abstract of article #25909 mentions 'azithromycin'\n",
      "Abstract of article #26108 mentions 'azithromycin'\n",
      "Abstract of article #26173 mentions 'azithromycin'\n",
      "Abstract of article #26223 mentions 'azithromycin'\n",
      "Abstract of article #26515 mentions 'lopinavir'\n",
      "Abstract of article #26515 mentions 'ritonavir'\n",
      "Abstract of article #26520 mentions 'remdesivir'\n",
      "Abstract of article #26520 mentions 'lopinavir'\n",
      "Abstract of article #26520 mentions 'ritonavir'\n",
      "Abstract of article #26533 mentions 'chloroquine'\n",
      "Abstract of article #26555 mentions 'chloroquine'\n",
      "Abstract of article #27803 mentions 'ritonavir'\n",
      "Abstract of article #29647 mentions 'chloroquine'\n",
      "Abstract of article #29782 mentions 'chloroquine'\n",
      "Abstract of article #29782 mentions 'hydroxychloroquine'\n",
      "Abstract of article #29782 mentions 'lopinavir'\n",
      "Abstract of article #29782 mentions 'ritonavir'\n",
      "Abstract of article #30101 mentions 'remdesivir'\n",
      "Abstract of article #30101 mentions 'lopinavir'\n",
      "Abstract of article #30101 mentions 'favipiravir'\n",
      "Abstract of article #30577 mentions 'lopinavir'\n",
      "Abstract of article #30577 mentions 'ritonavir'\n",
      "Abstract of article #30579 mentions 'chloroquine'\n",
      "Abstract of article #30579 mentions 'hydroxychloroquine'\n",
      "Abstract of article #30775 mentions 'tocilizumab'\n",
      "Abstract of article #30857 mentions 'remdesivir'\n",
      "Abstract of article #30857 mentions 'lopinavir'\n",
      "Abstract of article #30857 mentions 'ritonavir'\n",
      "Abstract of article #30862 mentions 'chloroquine'\n",
      "Abstract of article #30862 mentions 'hydroxychloroquine'\n",
      "Abstract of article #30862 mentions 'azithromycin'\n",
      "Abstract of article #30865 mentions 'tocilizumab'\n",
      "Abstract of article #30866 mentions 'chloroquine'\n",
      "Abstract of article #30866 mentions 'hydroxychloroquine'\n",
      "Abstract of article #30867 mentions 'chloroquine'\n",
      "Abstract of article #30867 mentions 'hydroxychloroquine'\n",
      "Abstract of article #31272 mentions 'chloroquine'\n",
      "Abstract of article #31272 mentions 'remdesivir'\n",
      "Abstract of article #31272 mentions 'tocilizumab'\n",
      "Abstract of article #31546 mentions 'lopinavir'\n",
      "Abstract of article #31546 mentions 'ritonavir'\n",
      "Abstract of article #31604 mentions 'remdesivir'\n",
      "Abstract of article #31803 mentions 'chloroquine'\n",
      "Abstract of article #31803 mentions 'hydroxychloroquine'\n",
      "Abstract of article #31803 mentions 'remdesivir'\n",
      "Abstract of article #31803 mentions 'lopinavir'\n",
      "Abstract of article #31803 mentions 'ritonavir'\n",
      "Abstract of article #31803 mentions 'azithromycin'\n",
      "Abstract of article #31803 mentions 'favipiravir'\n",
      "Abstract of article #31857 mentions 'interferon beta'\n",
      "Abstract of article #31887 mentions 'chloroquine'\n",
      "Abstract of article #31887 mentions 'hydroxychloroquine'\n",
      "Abstract of article #32005 mentions 'remdesivir'\n",
      "Abstract of article #32005 mentions 'lopinavir'\n",
      "Abstract of article #32005 mentions 'ritonavir'\n",
      "Abstract of article #32026 mentions 'ritonavir'\n",
      "Abstract of article #32201 mentions 'chloroquine'\n",
      "Abstract of article #32201 mentions 'hydroxychloroquine'\n",
      "Abstract of article #32429 mentions 'interferon beta'\n",
      "Abstract of article #32493 mentions 'lopinavir'\n",
      "Abstract of article #32493 mentions 'ritonavir'\n",
      "Abstract of article #32511 mentions 'lopinavir'\n",
      "Abstract of article #32511 mentions 'ritonavir'\n",
      "Abstract of article #32512 mentions 'lopinavir'\n",
      "Abstract of article #32512 mentions 'ritonavir'\n",
      "Abstract of article #32773 mentions 'ciclesonide'\n",
      "Abstract of article #32774 mentions 'lopinavir'\n",
      "Abstract of article #32774 mentions 'ritonavir'\n",
      "Abstract of article #32889 mentions 'lopinavir'\n",
      "Abstract of article #32889 mentions 'ritonavir'\n",
      "Abstract of article #32968 mentions 'remdesivir'\n",
      "Abstract of article #33021 mentions 'ciclesonide'\n",
      "Abstract of article #33082 mentions 'chloroquine'\n",
      "Abstract of article #33106 mentions 'chloroquine'\n",
      "Abstract of article #33106 mentions 'lopinavir'\n",
      "Abstract of article #33106 mentions 'ritonavir'\n",
      "Abstract of article #33108 mentions 'lopinavir'\n",
      "Abstract of article #33108 mentions 'ritonavir'\n",
      "Abstract of article #33116 mentions 'chloroquine'\n",
      "Abstract of article #33116 mentions 'hydroxychloroquine'\n",
      "Abstract of article #33116 mentions 'azithromycin'\n",
      "Abstract of article #33131 mentions 'favipiravir'\n",
      "Abstract of article #33167 mentions 'chloroquine'\n",
      "Abstract of article #33167 mentions 'hydroxychloroquine'\n",
      "Abstract of article #33167 mentions 'remdesivir'\n",
      "Abstract of article #33167 mentions 'lopinavir'\n",
      "Abstract of article #33167 mentions 'ritonavir'\n",
      "Abstract of article #33167 mentions 'favipiravir'\n",
      "Abstract of article #33196 mentions 'lopinavir'\n",
      "Abstract of article #33196 mentions 'ritonavir'\n",
      "Abstract of article #33197 mentions 'lopinavir'\n",
      "Abstract of article #33197 mentions 'ritonavir'\n",
      "Abstract of article #33238 mentions 'ciclesonide'\n",
      "Abstract of article #33264 mentions 'ritonavir'\n",
      "Abstract of article #33273 mentions 'chloroquine'\n",
      "Abstract of article #33273 mentions 'hydroxychloroquine'\n",
      "Abstract of article #33280 mentions 'chloroquine'\n",
      "Abstract of article #33280 mentions 'hydroxychloroquine'\n",
      "Abstract of article #33280 mentions 'azithromycin'\n",
      "Abstract of article #33282 mentions 'chloroquine'\n",
      "Abstract of article #33282 mentions 'hydroxychloroquine'\n",
      "Abstract of article #33310 mentions 'chloroquine'\n",
      "Abstract of article #33310 mentions 'lopinavir'\n",
      "Abstract of article #33332 mentions 'lopinavir'\n",
      "Abstract of article #33332 mentions 'ritonavir'\n",
      "Abstract of article #33353 mentions 'chloroquine'\n",
      "Abstract of article #33353 mentions 'hydroxychloroquine'\n",
      "Abstract of article #33380 mentions 'chloroquine'\n",
      "Abstract of article #33380 mentions 'hydroxychloroquine'\n",
      "Abstract of article #33516 mentions 'lopinavir'\n",
      "Abstract of article #33516 mentions 'ritonavir'\n",
      "Abstract of article #33525 mentions 'lopinavir'\n",
      "Abstract of article #33531 mentions 'chloroquine'\n",
      "Abstract of article #33531 mentions 'hydroxychloroquine'\n",
      "Abstract of article #33531 mentions 'azithromycin'\n",
      "Abstract of article #33539 mentions 'chloroquine'\n",
      "Abstract of article #33539 mentions 'hydroxychloroquine'\n",
      "Abstract of article #33576 mentions 'remdesivir'\n",
      "Abstract of article #33613 mentions 'tocilizumab'\n",
      "Abstract of article #33628 mentions 'remdesivir'\n",
      "Abstract of article #33630 mentions 'chloroquine'\n",
      "Abstract of article #33630 mentions 'hydroxychloroquine'\n",
      "Abstract of article #33645 mentions 'chloroquine'\n",
      "Abstract of article #33645 mentions 'hydroxychloroquine'\n",
      "Abstract of article #33645 mentions 'azithromycin'\n",
      "Abstract of article #33651 mentions 'chloroquine'\n",
      "Abstract of article #33651 mentions 'ritonavir'\n",
      "Abstract of article #33658 mentions 'chloroquine'\n",
      "Abstract of article #33668 mentions 'remdesivir'\n",
      "Abstract of article #33728 mentions 'chloroquine'\n",
      "Abstract of article #33780 mentions 'remdesivir'\n",
      "Abstract of article #33785 mentions 'chloroquine'\n",
      "Abstract of article #33807 mentions 'chloroquine'\n",
      "Abstract of article #33807 mentions 'hydroxychloroquine'\n",
      "Abstract of article #33819 mentions 'chloroquine'\n",
      "Abstract of article #33819 mentions 'lopinavir'\n",
      "Abstract of article #33819 mentions 'ritonavir'\n",
      "Abstract of article #33875 mentions 'lopinavir'\n",
      "Abstract of article #34244 mentions 'lopinavir'\n",
      "Abstract of article #34244 mentions 'ritonavir'\n",
      "Abstract of article #34259 mentions 'remdesivir'\n",
      "Abstract of article #34337 mentions 'chloroquine'\n",
      "Abstract of article #34337 mentions 'remdesivir'\n",
      "Abstract of article #34337 mentions 'favipiravir'\n",
      "Abstract of article #34372 mentions 'remdesivir'\n",
      "Abstract of article #34499 mentions 'remdesivir'\n",
      "Abstract of article #34499 mentions 'lopinavir'\n",
      "Abstract of article #34499 mentions 'ritonavir'\n",
      "Abstract of article #34535 mentions 'chloroquine'\n",
      "Abstract of article #34581 mentions 'lopinavir'\n",
      "Abstract of article #34581 mentions 'ritonavir'\n",
      "Abstract of article #34591 mentions 'chloroquine'\n",
      "Abstract of article #34591 mentions 'remdesivir'\n",
      "Abstract of article #34591 mentions 'favipiravir'\n",
      "Abstract of article #34641 mentions 'chloroquine'\n",
      "Abstract of article #35077 mentions 'chloroquine'\n",
      "Abstract of article #36706 mentions 'chloroquine'\n",
      "Abstract of article #37170 mentions 'chloroquine'\n",
      "Abstract of article #37360 mentions 'chloroquine'\n",
      "Abstract of article #37622 mentions 'lopinavir'\n",
      "Abstract of article #37622 mentions 'ritonavir'\n",
      "Abstract of article #37626 mentions 'lopinavir'\n",
      "Abstract of article #37626 mentions 'ritonavir'\n",
      "Abstract of article #37646 mentions 'remdesivir'\n",
      "Abstract of article #37729 mentions 'remdesivir'\n",
      "Abstract of article #37741 mentions 'lopinavir'\n",
      "Abstract of article #37741 mentions 'ritonavir'\n",
      "Abstract of article #37750 mentions 'lopinavir'\n",
      "Abstract of article #37750 mentions 'ritonavir'\n",
      "Abstract of article #37762 mentions 'lopinavir'\n",
      "Abstract of article #37762 mentions 'ritonavir'\n",
      "Abstract of article #37809 mentions 'lopinavir'\n",
      "Abstract of article #37809 mentions 'ritonavir'\n",
      "Abstract of article #38203 mentions 'chloroquine'\n",
      "Abstract of article #38203 mentions 'hydroxychloroquine'\n",
      "Abstract of article #38226 mentions 'chloroquine'\n",
      "Abstract of article #38519 mentions 'azithromycin'\n",
      "Abstract of article #38748 mentions 'chloroquine'\n",
      "Abstract of article #38799 mentions 'lopinavir'\n",
      "Abstract of article #38799 mentions 'interferon beta'\n",
      "Abstract of article #38994 mentions 'chloroquine'\n",
      "Abstract of article #39113 mentions 'ritonavir'\n",
      "Abstract of article #39234 mentions 'remdesivir'\n",
      "Abstract of article #39277 mentions 'interferon beta'\n",
      "Abstract of article #39859 mentions 'chloroquine'\n",
      "Abstract of article #39933 mentions 'interferon beta'\n",
      "Abstract of article #40290 mentions 'chloroquine'\n",
      "Abstract of article #40290 mentions 'remdesivir'\n",
      "Abstract of article #40596 mentions 'lopinavir'\n",
      "Abstract of article #40596 mentions 'ritonavir'\n",
      "Abstract of article #40612 mentions 'chloroquine'\n",
      "Abstract of article #40747 mentions 'lopinavir'\n",
      "Abstract of article #40747 mentions 'ritonavir'\n",
      "Abstract of article #40752 mentions 'chloroquine'\n",
      "Abstract of article #40801 mentions 'favipiravir'\n",
      "Abstract of article #40957 mentions 'lopinavir'\n",
      "Abstract of article #41008 mentions 'lopinavir'\n",
      "Abstract of article #41008 mentions 'ritonavir'\n",
      "Abstract of article #41115 mentions 'chloroquine'\n",
      "Abstract of article #41115 mentions 'hydroxychloroquine'\n",
      "Abstract of article #41191 mentions 'lopinavir'\n",
      "Abstract of article #41191 mentions 'ritonavir'\n",
      "Abstract of article #41309 mentions 'favipiravir'\n",
      "Abstract of article #41325 mentions 'lopinavir'\n",
      "Abstract of article #41325 mentions 'ritonavir'\n",
      "Abstract of article #41455 mentions 'lopinavir'\n",
      "Abstract of article #41455 mentions 'ritonavir'\n",
      "Abstract of article #41460 mentions 'azithromycin'\n",
      "Abstract of article #41527 mentions 'chloroquine'\n",
      "Abstract of article #41563 mentions 'chloroquine'\n",
      "Abstract of article #41696 mentions 'azithromycin'\n",
      "Abstract of article #41772 mentions 'chloroquine'\n",
      "Abstract of article #41839 mentions 'chloroquine'\n",
      "Abstract of article #42194 mentions 'chloroquine'\n",
      "Abstract of article #42215 mentions 'chloroquine'\n",
      "Abstract of article #42215 mentions 'hydroxychloroquine'\n",
      "Abstract of article #42339 mentions 'lopinavir'\n",
      "Abstract of article #42339 mentions 'ritonavir'\n",
      "Abstract of article #42373 mentions 'chloroquine'\n",
      "Abstract of article #42373 mentions 'hydroxychloroquine'\n",
      "Abstract of article #42720 mentions 'chloroquine'\n",
      "Abstract of article #42722 mentions 'chloroquine'\n",
      "Abstract of article #42974 mentions 'chloroquine'\n",
      "Abstract of article #42980 mentions 'chloroquine'\n",
      "Abstract of article #43091 mentions 'azithromycin'\n",
      "Abstract of article #43298 mentions 'interferon beta'\n",
      "Abstract of article #43481 mentions 'chloroquine'\n",
      "Abstract of article #43614 mentions 'favipiravir'\n",
      "Abstract of article #43811 mentions 'chloroquine'\n",
      "Abstract of article #43811 mentions 'hydroxychloroquine'\n",
      "Abstract of article #44374 mentions 'chloroquine'\n",
      "Abstract of article #44531 mentions 'chloroquine'\n",
      "Abstract of article #44732 mentions 'remdesivir'\n",
      "Abstract of article #44854 mentions 'chloroquine'\n",
      "Abstract of article #45072 mentions 'interferon beta'\n",
      "Abstract of article #45080 mentions 'chloroquine'\n",
      "Abstract of article #45082 mentions 'chloroquine'\n",
      "Abstract of article #45378 mentions 'azithromycin'\n",
      "Abstract of article #45999 mentions 'remdesivir'\n",
      "Abstract of article #46161 mentions 'chloroquine'\n",
      "Abstract of article #46161 mentions 'remdesivir'\n",
      "Abstract of article #46172 mentions 'chloroquine'\n",
      "Abstract of article #46659 mentions 'lopinavir'\n",
      "Abstract of article #46659 mentions 'ritonavir'\n",
      "Abstract of article #46866 mentions 'chloroquine'\n",
      "Abstract of article #47045 mentions 'chloroquine'\n",
      "Abstract of article #47123 mentions 'remdesivir'\n",
      "Abstract of article #47123 mentions 'favipiravir'\n",
      "Abstract of article #47220 mentions 'lopinavir'\n",
      "Abstract of article #47220 mentions 'ritonavir'\n",
      "Abstract of article #48013 mentions 'chloroquine'\n",
      "Abstract of article #48176 mentions 'chloroquine'\n",
      "Abstract of article #48335 mentions 'lopinavir'\n",
      "Abstract of article #48335 mentions 'ritonavir'\n",
      "Abstract of article #48833 mentions 'chloroquine'\n",
      "Abstract of article #48865 mentions 'chloroquine'\n",
      "Abstract of article #48945 mentions 'azithromycin'\n",
      "Abstract of article #48978 mentions 'chloroquine'\n",
      "Abstract of article #49310 mentions 'lopinavir'\n",
      "Abstract of article #49788 mentions 'chloroquine'\n",
      "Abstract of article #49904 mentions 'lopinavir'\n",
      "Abstract of article #50162 mentions 'lopinavir'\n",
      "Abstract of article #50162 mentions 'ritonavir'\n",
      "Abstract of article #50615 mentions 'lopinavir'\n",
      "Abstract of article #50682 mentions 'chloroquine'\n"
     ]
    }
   ],
   "source": [
    "for article_nr,abstract in enumerate(abstract_column):\n",
    "    \n",
    "    # some abstracts are NaN!\n",
    "    if not isinstance(abstract,str):\n",
    "        #print(\"Abstract {0} is not given\".format(article_nr))\n",
    "        continue\n",
    "    \n",
    "    for drug_nr,drug in enumerate(drug_candidates_lower):\n",
    "        \n",
    "             \n",
    "        found = False\n",
    "        if PARAM_filter_for_specific_virus:\n",
    "            if (drug in abstract) and (PARAM_virus_name in abstract):\n",
    "                found = True\n",
    "        else:\n",
    "            if drug in abstract:\n",
    "                found = True\n",
    "                \n",
    "        if found:\n",
    "            print(\"Abstract of article #{0} mentions '{1}'\".format(article_nr, drug))\n",
    "            counter_per_drug[drug_nr] += 1"
   ]
  },
  {
   "cell_type": "code",
   "execution_count": 33,
   "metadata": {},
   "outputs": [
    {
     "data": {
      "image/png": "[encoded data removed]",
      "text/plain": [
       "<Figure size 432x288 with 1 Axes>"
      ]
     },
     "metadata": {
      "needs_background": "light"
     },
     "output_type": "display_data"
    }
   ],
   "source": [
    "fig1, ax1 = plt.subplots()\n",
    "\n",
    "ax1.bar(drug_candidates_lower, counter_per_drug, align='center', alpha=0.5)\n",
    "\n",
    "xticks = np.arange(len(drug_candidates_lower))\n",
    "ax1.set_xticks(xticks)\n",
    "ax1.set_xticklabels(drug_candidates_lower, rotation=40, ha=\"right\")\n",
    "\n",
    "ax1.set_ylim(0.0, max(counter_per_drug) + 50)\n",
    "\n",
    "ax1.set_title( \"How often is each drug candidate mentioned in an article ABSTRACT\\nof the {0} dataset?\\n\"\n",
    "              .format(PARAM_dataset_name), fontsize=15 )\n",
    "\n",
    "ax1.set_ylabel( \"Nr of times mentioned\" )\n",
    "\n",
    "for i, counter in enumerate(counter_per_drug):\n",
    "    ax1.text(i - 0.3, counter + 3, \"{0}\".format(counter), color='black')\n",
    "    \n",
    "plt.show()"
   ]
  },
  {
   "cell_type": "code",
   "execution_count": null,
   "metadata": {},
   "outputs": [],
   "source": []
  }
 ],
 "metadata": {
  "kernelspec": {
   "display_name": "Python 3",
   "language": "python",
   "name": "python3"
  },
  "language_info": {
   "codemirror_mode": {
    "name": "ipython",
    "version": 3
   },
   "file_extension": ".py",
   "mimetype": "text/x-python",
   "name": "python",
   "nbconvert_exporter": "python",
   "pygments_lexer": "ipython3",
   "version": "3.8.2"
  },
  "toc-autonumbering": true
 },
 "nbformat": 4,
 "nbformat_minor": 4
}
