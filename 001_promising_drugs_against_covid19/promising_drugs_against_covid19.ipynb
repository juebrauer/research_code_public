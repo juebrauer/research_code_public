{
 "cells": [
  {
   "cell_type": "markdown",
   "metadata": {},
   "source": [
    "# Introduction"
   ]
  },
  {
   "cell_type": "markdown",
   "metadata": {},
   "source": [
    "The [\"SARS-CoV-2 virus\"](https://en.wikipedia.org/wiki/Severe_acute_respiratory_syndrome_coronavirus_2) (abbreviation for \"Severe Acute Respiratory Syndrome CoronaVirus 2\") spreads rapidly.\n",
    "\n",
    "For the current spread of the virus see, e.g., the following map:\n",
    "\n",
    "[\"Coronavirus COVID-19 Global Cases by the Center for Systems Science and Engineering (CSSE) at Johns Hopkins University (JHU)](https://coronavirus.jhu.edu/map.html).\n",
    "\n",
    "It can cause a respiratory illness which is called [\"COVID-19\"](https://en.wikipedia.org/wiki/Coronavirus_disease_2019) (from \"COronaVIrus Disease 2019\").\n",
    "\n",
    "In this context, machine learning engineers and researchs try to help.\n",
    "\n",
    "Recently, [Kaggle](https://www.kaggle.com/) published the [CORD-19 dataset (COVID-19 Open Research Dataset)](https://www.kaggle.com/allen-institute-for-ai/CORD-19-research-challenge) - a dataset of over 45.000 medical articles related to corona-viruses:\n",
    "\n",
    ">In response to the COVID-19 pandemic, the White House and a coalition of leading research groups have prepared the COVID-19 Open Research Dataset (CORD-19). CORD-19 is a resource of over 45,000 scholarly articles, including over 33,000 with full text, about COVID-19, SARS-CoV-2, and related coronaviruses. This freely available dataset is provided to the global research community to apply recent advances in natural language processing and other AI techniques to generate new insights in support of the ongoing fight against this infectious disease. There is a growing urgency for these approaches because of the rapid acceleration in new coronavirus literature, making it difficult for the medical research community to keep up.\n",
    "\n",
    "[Quotation source](https://www.kaggle.com/allen-institute-for-ai/CORD-19-research-challenge)\n",
    "\n",
    "Notebook by [Prof. Dr. Jürgen Brauer](www.juergenbrauer.org)"
   ]
  },
  {
   "cell_type": "markdown",
   "metadata": {},
   "source": [
    "# Goal of this notebook\n",
    "\n",
    "This notebook tries to make use of the huge CORD-19 article dataset in order to find evidences for the currently discussed medications that may help against the virus.\n",
    "\n",
    "To be more precise, this notebook is a try to give some answers to the CORD-19 challenge question:\n",
    "\n",
    "[\"What do we know about vaccines and therapeutics?\"](https://www.kaggle.com/allen-institute-for-ai/CORD-19-research-challenge/tasks?taskId=561)\n",
    "\n",
    "To focus the search we concentrate on drugs against COVID-19."
   ]
  },
  {
   "cell_type": "markdown",
   "metadata": {},
   "source": [
    "# Methodology\n",
    "\n",
    "Two steps:\n",
    "\n",
    "- First we look at non CORD-19 articles: Which drugs (or more generally therapies) are mentioned here to fight the virus?\n",
    "- On the basis of these articles, a list of promising drugs is compiled, for which evidence is then sought in the more than 45,000 CORD-19 articles."
   ]
  },
  {
   "cell_type": "markdown",
   "metadata": {},
   "source": [
    "# Identifying promising drugs (therapies)"
   ]
  },
  {
   "cell_type": "markdown",
   "metadata": {},
   "source": [
    "We first compile a list of promising drugs against COVID-19. We use press articles and professional medial publications for compiling the list.\n",
    "\n",
    "Why press articles to collect a list of possible drugs? Press articles are very topical and researchers from a wide range of research areas are often interviewed.\n",
    "\n",
    "\n",
    "Here is a list of articles talking about COVID-19 related promising drugs:\n",
    "\n",
    "- **Article title:** \"Unlike FDA, European regulators refuse to clear chloroquine for COVID-19 without data\"<br>\n",
    "  **Article type:** Press article<br>\n",
    "  **Article date:** 02.04.2020<br>\n",
    "  **Link:** https://www.fiercepharma.com/pharma/europe-locks-down-chloroquine-scripts-as-researchers-china-report-positive-controlled-covid<br>\n",
    "  **Drug candidates:** _Chloroquine, Hydroxychloroquine_\n",
    "  \n",
    "- **Article title:** \"Coronavirus: New drug and vaccine show promise against COVID-19\"<br>\n",
    "  **Article type:** Press article<br>\n",
    "  **Article date:** 03.04.2020<br>\n",
    "  **Link:** https://www.newshub.co.nz/home/world/2020/04/coronavirus-new-drug-and-vaccine-show-promise-against-covid-19.html<br>\n",
    "  **Drug candidates:** _APN01 (or APN001)_\n",
    "\n",
    "- **Article title:** \"Remdesivir most promising COVID-19 drug, say researchers\"<br>\n",
    "  **Article type:** Press article<br>\n",
    "  **Article date:** 27.03.2020<br>\n",
    "  **Link:** https://www.drugtargetreview.com/news/58608/remdesivir-most-promising-covid-19-drug-say-researchers/<br>\n",
    "  **Drug candidates:** _remdesivir, tilarone_\n",
    "  \n",
    "- **Article title:** \"COVID-19 Drug Therapy – Potential Options\"<br>\n",
    "  **Article type:** Medical publication<br>\n",
    "  **Article date:** 26.03.2020<br>\n",
    "  **Link:** https://www.google.com/url?sa=t&rct=j&q=&esrc=s&source=web&cd=1&ved=2ahUKEwjK5-flnszoAhWTilwKHaZPBDQQFjAAegQIBRAB&url=https%3A%2F%2Fwww.elsevier.com%2F__data%2Fassets%2Fpdf_file%2F0007%2F988648%2FCOVID-19-Drug-Therapy_Mar-2020.pdf&usg=AOvVaw25eIClQRNh7ipfOu0IvWEm<br>\n",
    "  **Drug candidates:** _Chloroquine, Hydroxychloroquine, Lopinavir, Ritonavir, Remdesivir (GS-5734), Azithromycin, Tocilizumab_\n",
    "  \n",
    "- **Article title:** \"COVID-19 drug repurposing research\"<br>\n",
    "  **Article type:** Wikipedia article<br>\n",
    "  **Article date:** 03.04.2020<br>\n",
    "  **Link:** https://en.wikipedia.org/wiki/COVID-19_drug_repurposing_research<br>\n",
    "  **Drug candidates:** _Chloroquine, Favipiravir, Interferon beta (IFN-β), Lopinavir, Ritonavir, Remdesivir, Intravenous vitamin C, Azithromycin, Ciclesonide_\n",
    "  \n",
    "- **Article title:**<br>\n",
    "  **Article type:**<br>\n",
    "  **Article date:**<br>\n",
    "  **Link:** \n",
    "  **Drug candidates:**\n",
    "  \n",
    "List of many other candidates: https://www.visualcapitalist.com/every-vaccine-treatment-covid-19-so-far/\n"
   ]
  },
  {
   "cell_type": "markdown",
   "metadata": {},
   "source": [
    "# Some notes regarding the candidates"
   ]
  },
  {
   "cell_type": "markdown",
   "metadata": {},
   "source": [
    "Some notes regarding the candidates:\n",
    "\n",
    "- many candidates fall into the category of \"drug repositioning\" (drug repurposing), which is the repurposing of an approved drug for the treatment of another disease\n",
    "\n",
    "- \"chloroquine\" and \"hydroxychloroquine\" are anti-malarial drugs<br>\n",
    "  Source: https://www.cnbc.com/2020/03/30/who-says-early-data-shows-some-drugs-may-have-an-impact-on-coronavirus-but-more-research-is-needed.html\n",
    "  \n",
    "- Lopinavir, Ritonavir are HIV Protease Inhibitor<br>\n",
    "  Source: \"COVID-19 Drug Therapy – Potential Options\", Elsevier 26.03.2020\n"
   ]
  },
  {
   "cell_type": "code",
   "execution_count": null,
   "metadata": {},
   "outputs": [],
   "source": []
  }
 ],
 "metadata": {
  "kernelspec": {
   "display_name": "Python 3",
   "language": "python",
   "name": "python3"
  },
  "language_info": {
   "codemirror_mode": {
    "name": "ipython",
    "version": 3
   },
   "file_extension": ".py",
   "mimetype": "text/x-python",
   "name": "python",
   "nbconvert_exporter": "python",
   "pygments_lexer": "ipython3",
   "version": "3.8.2"
  },
  "toc-autonumbering": true
 },
 "nbformat": 4,
 "nbformat_minor": 4
}
