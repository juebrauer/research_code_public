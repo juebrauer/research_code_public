{
 "cells": [
  {
   "cell_type": "markdown",
   "metadata": {},
   "source": [
    "# Introduction"
   ]
  },
  {
   "cell_type": "markdown",
   "metadata": {},
   "source": [
    "The [\"SARS-CoV-2 virus\"](https://en.wikipedia.org/wiki/Severe_acute_respiratory_syndrome_coronavirus_2) (abbreviation for \"Severe Acute Respiratory Syndrome CoronaVirus 2\") spreads rapidly.\n",
    "\n",
    "For the current spread of the virus see, e.g., the following map:\n",
    "\n",
    "[\"Coronavirus COVID-19 Global Cases by the Center for Systems Science and Engineering (CSSE) at Johns Hopkins University (JHU)](https://coronavirus.jhu.edu/map.html).\n",
    "\n",
    "It can cause a respiratory illness which is called [\"COVID-19\"](https://en.wikipedia.org/wiki/Coronavirus_disease_2019) (from \"COronaVIrus Disease 2019\").\n",
    "\n",
    "In this context, machine learning engineers and researchs try to help.\n",
    "\n",
    "Recently, [Kaggle](https://www.kaggle.com/) published the [CORD-19 dataset (COVID-19 Open Research Dataset)](https://www.kaggle.com/allen-institute-for-ai/CORD-19-research-challenge) - a dataset of over 45.000 medical articles related to corona-viruses:\n",
    "\n",
    ">In response to the COVID-19 pandemic, the White House and a coalition of leading research groups have prepared the COVID-19 Open Research Dataset (CORD-19). CORD-19 is a resource of over 45,000 scholarly articles, including over 33,000 with full text, about COVID-19, SARS-CoV-2, and related coronaviruses. This freely available dataset is provided to the global research community to apply recent advances in natural language processing and other AI techniques to generate new insights in support of the ongoing fight against this infectious disease. There is a growing urgency for these approaches because of the rapid acceleration in new coronavirus literature, making it difficult for the medical research community to keep up.\n",
    "\n",
    "[Quotation source](https://www.kaggle.com/allen-institute-for-ai/CORD-19-research-challenge)\n",
    "\n",
    "Notebook by [Prof. Dr. Jürgen Brauer](www.juergenbrauer.org)"
   ]
  },
  {
   "cell_type": "markdown",
   "metadata": {},
   "source": [
    "# Goal of this notebook\n",
    "\n",
    "This notebook tries to make use of the huge CORD-19 article dataset in order to find evidences for the currently discussed medications that may help against the virus.\n",
    "\n",
    "To be more precise, this notebook is a try to give some answers to the CORD-19 challenge question:\n",
    "\n",
    "[\"What do we know about vaccines and therapeutics?\"](https://www.kaggle.com/allen-institute-for-ai/CORD-19-research-challenge/tasks?taskId=561)\n",
    "\n",
    "To focus the search we concentrate on drugs against COVID-19."
   ]
  },
  {
   "cell_type": "markdown",
   "metadata": {},
   "source": [
    "# All notebook settings at one place"
   ]
  },
  {
   "cell_type": "markdown",
   "metadata": {},
   "source": [
    "Here we set all parameters in one code cell. This gives you an good overview what you can adjust before running the notebook.\n",
    "\n",
    "Each parameter that can be set starts with `PARAM_`."
   ]
  },
  {
   "cell_type": "code",
   "execution_count": 4,
   "metadata": {},
   "outputs": [],
   "source": [
    "# Where do you have stored the CORD-19 dataset on your computer?\n",
    "PARAM_dataset_cord19 = \"/home/juebrauer/link_to_vcd/12_datasets/01_cord-19-research-challenge_v5\"\n",
    "\n",
    "# What is the name of the CORD-19 metadata file?\n",
    "PARAM_filename_metadata_cord19 = PARAM_dataset_cord19 + \"/\" + \"metadata.csv\""
   ]
  },
  {
   "cell_type": "markdown",
   "metadata": {},
   "source": [
    "# Methodology\n",
    "\n",
    "Two steps:\n",
    "\n",
    "- First we look at non CORD-19 articles: Which drugs (or more generally therapies) are mentioned here to fight the virus?\n",
    "- On the basis of these articles, a list of promising drugs is compiled, for which evidence is then sought in the more than 45,000 CORD-19 articles."
   ]
  },
  {
   "cell_type": "markdown",
   "metadata": {},
   "source": [
    "# Identifying promising drugs (therapies)"
   ]
  },
  {
   "cell_type": "markdown",
   "metadata": {},
   "source": [
    "We first compile a list of promising drugs against COVID-19. We use press articles and professional medial publications for compiling the list.\n",
    "\n",
    "Why press articles to collect a list of possible drugs? Press articles are very topical and researchers from a wide range of research areas are often interviewed.\n",
    "\n",
    "\n",
    "Here is a list of articles talking about COVID-19 related promising drugs:\n",
    "\n",
    "- **Article title:** \"Unlike FDA, European regulators refuse to clear chloroquine for COVID-19 without data\"<br>\n",
    "  **Article type:** Press article<br>\n",
    "  **Article date:** 02.04.2020<br>\n",
    "  **Link:** https://www.fiercepharma.com/pharma/europe-locks-down-chloroquine-scripts-as-researchers-china-report-positive-controlled-covid<br>\n",
    "  **Drug candidates:** _Chloroquine, Hydroxychloroquine_\n",
    "  \n",
    "- **Article title:** \"Coronavirus: New drug and vaccine show promise against COVID-19\"<br>\n",
    "  **Article type:** Press article<br>\n",
    "  **Article date:** 03.04.2020<br>\n",
    "  **Link:** https://www.newshub.co.nz/home/world/2020/04/coronavirus-new-drug-and-vaccine-show-promise-against-covid-19.html<br>\n",
    "  **Drug candidates:** _APN01 (or APN001)_\n",
    "\n",
    "- **Article title:** \"Remdesivir most promising COVID-19 drug, say researchers\"<br>\n",
    "  **Article type:** Press article<br>\n",
    "  **Article date:** 27.03.2020<br>\n",
    "  **Link:** https://www.drugtargetreview.com/news/58608/remdesivir-most-promising-covid-19-drug-say-researchers/<br>\n",
    "  **Drug candidates:** _remdesivir, tilarone_\n",
    "  \n",
    "- **Article title:** \"COVID-19 Drug Therapy – Potential Options\"<br>\n",
    "  **Article type:** Medical publication<br>\n",
    "  **Article date:** 26.03.2020<br>\n",
    "  **Link:** https://www.google.com/url?sa=t&rct=j&q=&esrc=s&source=web&cd=1&ved=2ahUKEwjK5-flnszoAhWTilwKHaZPBDQQFjAAegQIBRAB&url=https%3A%2F%2Fwww.elsevier.com%2F__data%2Fassets%2Fpdf_file%2F0007%2F988648%2FCOVID-19-Drug-Therapy_Mar-2020.pdf&usg=AOvVaw25eIClQRNh7ipfOu0IvWEm<br>\n",
    "  **Drug candidates:** _Chloroquine, Hydroxychloroquine, Lopinavir, Ritonavir, Remdesivir (GS-5734), Azithromycin, Tocilizumab_\n",
    "  \n",
    "- **Article title:** \"COVID-19 drug repurposing research\"<br>\n",
    "  **Article type:** Wikipedia article<br>\n",
    "  **Article date:** 03.04.2020<br>\n",
    "  **Link:** https://en.wikipedia.org/wiki/COVID-19_drug_repurposing_research<br>\n",
    "  **Drug candidates:** _Chloroquine, Favipiravir, Interferon beta (IFN-β), Lopinavir, Ritonavir, Remdesivir, Intravenous vitamin C, Azithromycin, Ciclesonide_\n",
    "  \n",
    "- **Article title:**<br>\n",
    "  **Article type:**<br>\n",
    "  **Article date:**<br>\n",
    "  **Link:** \n",
    "  **Drug candidates:**\n",
    "  \n",
    "List of many other candidates: https://www.visualcapitalist.com/every-vaccine-treatment-covid-19-so-far/\n"
   ]
  },
  {
   "cell_type": "markdown",
   "metadata": {},
   "source": [
    "# Some notes regarding the candidates"
   ]
  },
  {
   "cell_type": "markdown",
   "metadata": {},
   "source": [
    "Some notes regarding the candidates:\n",
    "\n",
    "- many candidates fall into the category of \"drug repositioning\" (drug repurposing), which is the repurposing of an approved drug for the treatment of another disease\n",
    "\n",
    "- \"chloroquine\" and \"hydroxychloroquine\" are anti-malarial drugs<br>\n",
    "  Source: https://www.cnbc.com/2020/03/30/who-says-early-data-shows-some-drugs-may-have-an-impact-on-coronavirus-but-more-research-is-needed.html\n",
    "  \n",
    "- Lopinavir, Ritonavir are HIV Protease Inhibitor<br>\n",
    "  Source: \"COVID-19 Drug Therapy – Potential Options\", Elsevier 26.03.2020\n"
   ]
  },
  {
   "cell_type": "markdown",
   "metadata": {},
   "source": [
    "# Some meta-data analysis of the CORD-19 dataset"
   ]
  },
  {
   "cell_type": "markdown",
   "metadata": {},
   "source": [
    "## Read in meta-data"
   ]
  },
  {
   "cell_type": "code",
   "execution_count": 13,
   "metadata": {},
   "outputs": [],
   "source": [
    "# Read in the metadata file\n",
    "\n",
    "import pandas as pd\n",
    "df = pd.read_csv(PARAM_filename_metadata_cord19)"
   ]
  },
  {
   "cell_type": "code",
   "execution_count": 8,
   "metadata": {},
   "outputs": [
    {
     "data": {
      "text/plain": [
       "(45774, 17)"
      ]
     },
     "execution_count": 8,
     "metadata": {},
     "output_type": "execute_result"
    }
   ],
   "source": [
    "df.shape"
   ]
  },
  {
   "cell_type": "code",
   "execution_count": 12,
   "metadata": {},
   "outputs": [
    {
     "data": {
      "text/html": [
       "<div>\n",
       "<style scoped>\n",
       "    .dataframe tbody tr th:only-of-type {\n",
       "        vertical-align: middle;\n",
       "    }\n",
       "\n",
       "    .dataframe tbody tr th {\n",
       "        vertical-align: top;\n",
       "    }\n",
       "\n",
       "    .dataframe thead th {\n",
       "        text-align: right;\n",
       "    }\n",
       "</style>\n",
       "<table border=\"1\" class=\"dataframe\">\n",
       "  <thead>\n",
       "    <tr style=\"text-align: right;\">\n",
       "      <th></th>\n",
       "      <th>cord_uid</th>\n",
       "      <th>sha</th>\n",
       "      <th>source_x</th>\n",
       "      <th>title</th>\n",
       "      <th>doi</th>\n",
       "      <th>pmcid</th>\n",
       "      <th>pubmed_id</th>\n",
       "      <th>license</th>\n",
       "      <th>abstract</th>\n",
       "      <th>publish_time</th>\n",
       "      <th>authors</th>\n",
       "      <th>journal</th>\n",
       "      <th>Microsoft Academic Paper ID</th>\n",
       "      <th>WHO #Covidence</th>\n",
       "      <th>has_full_text</th>\n",
       "      <th>full_text_file</th>\n",
       "      <th>url</th>\n",
       "    </tr>\n",
       "  </thead>\n",
       "  <tbody>\n",
       "    <tr>\n",
       "      <th>0</th>\n",
       "      <td>vho70jcx</td>\n",
       "      <td>f056da9c64fbf00a4645ae326e8a4339d015d155</td>\n",
       "      <td>biorxiv</td>\n",
       "      <td>SIANN: Strain Identification by Alignment to N...</td>\n",
       "      <td>10.1101/001727</td>\n",
       "      <td>NaN</td>\n",
       "      <td>NaN</td>\n",
       "      <td>biorxiv</td>\n",
       "      <td>Next-generation sequencing is increasingly bei...</td>\n",
       "      <td>2014-01-10</td>\n",
       "      <td>Samuel Minot; Stephen D Turner; Krista L Ternu...</td>\n",
       "      <td>NaN</td>\n",
       "      <td>NaN</td>\n",
       "      <td>NaN</td>\n",
       "      <td>True</td>\n",
       "      <td>biorxiv_medrxiv</td>\n",
       "      <td>https://doi.org/10.1101/001727</td>\n",
       "    </tr>\n",
       "    <tr>\n",
       "      <th>1</th>\n",
       "      <td>i9tbix2v</td>\n",
       "      <td>daf32e013d325a6feb80e83d15aabc64a48fae33</td>\n",
       "      <td>biorxiv</td>\n",
       "      <td>Spatial epidemiology of networked metapopulati...</td>\n",
       "      <td>10.1101/003889</td>\n",
       "      <td>NaN</td>\n",
       "      <td>NaN</td>\n",
       "      <td>biorxiv</td>\n",
       "      <td>An emerging disease is one infectious epidemic...</td>\n",
       "      <td>2014-06-04</td>\n",
       "      <td>Lin WANG; Xiang Li</td>\n",
       "      <td>NaN</td>\n",
       "      <td>NaN</td>\n",
       "      <td>NaN</td>\n",
       "      <td>True</td>\n",
       "      <td>biorxiv_medrxiv</td>\n",
       "      <td>https://doi.org/10.1101/003889</td>\n",
       "    </tr>\n",
       "    <tr>\n",
       "      <th>2</th>\n",
       "      <td>62gfisc6</td>\n",
       "      <td>f33c6d94b0efaa198f8f3f20e644625fa3fe10d2</td>\n",
       "      <td>biorxiv</td>\n",
       "      <td>Sequencing of the human IG light chain loci fr...</td>\n",
       "      <td>10.1101/006866</td>\n",
       "      <td>NaN</td>\n",
       "      <td>NaN</td>\n",
       "      <td>biorxiv</td>\n",
       "      <td>Germline variation at immunoglobulin gene (IG)...</td>\n",
       "      <td>2014-07-03</td>\n",
       "      <td>Corey T Watson; Karyn Meltz Steinberg; Tina A ...</td>\n",
       "      <td>NaN</td>\n",
       "      <td>NaN</td>\n",
       "      <td>NaN</td>\n",
       "      <td>True</td>\n",
       "      <td>biorxiv_medrxiv</td>\n",
       "      <td>https://doi.org/10.1101/006866</td>\n",
       "    </tr>\n",
       "    <tr>\n",
       "      <th>3</th>\n",
       "      <td>058r9486</td>\n",
       "      <td>4da8a87e614373d56070ed272487451266dce919</td>\n",
       "      <td>biorxiv</td>\n",
       "      <td>Bayesian mixture analysis for metagenomic comm...</td>\n",
       "      <td>10.1101/007476</td>\n",
       "      <td>NaN</td>\n",
       "      <td>NaN</td>\n",
       "      <td>biorxiv</td>\n",
       "      <td>Deep sequencing of clinical samples is now an ...</td>\n",
       "      <td>2014-07-25</td>\n",
       "      <td>Sofia Morfopoulou; Vincent Plagnol</td>\n",
       "      <td>NaN</td>\n",
       "      <td>NaN</td>\n",
       "      <td>NaN</td>\n",
       "      <td>True</td>\n",
       "      <td>biorxiv_medrxiv</td>\n",
       "      <td>https://doi.org/10.1101/007476</td>\n",
       "    </tr>\n",
       "    <tr>\n",
       "      <th>4</th>\n",
       "      <td>wich35l7</td>\n",
       "      <td>eccef80cfbe078235df22398f195d5db462d8000</td>\n",
       "      <td>biorxiv</td>\n",
       "      <td>Mapping a viral phylogeny onto outbreak trees ...</td>\n",
       "      <td>10.1101/010389</td>\n",
       "      <td>NaN</td>\n",
       "      <td>NaN</td>\n",
       "      <td>biorxiv</td>\n",
       "      <td>Developing methods to reconstruct transmission...</td>\n",
       "      <td>2014-11-11</td>\n",
       "      <td>Stephen P Velsko; Jonathan E Allen</td>\n",
       "      <td>NaN</td>\n",
       "      <td>NaN</td>\n",
       "      <td>NaN</td>\n",
       "      <td>True</td>\n",
       "      <td>biorxiv_medrxiv</td>\n",
       "      <td>https://doi.org/10.1101/010389</td>\n",
       "    </tr>\n",
       "  </tbody>\n",
       "</table>\n",
       "</div>"
      ],
      "text/plain": [
       "   cord_uid                                       sha source_x  \\\n",
       "0  vho70jcx  f056da9c64fbf00a4645ae326e8a4339d015d155  biorxiv   \n",
       "1  i9tbix2v  daf32e013d325a6feb80e83d15aabc64a48fae33  biorxiv   \n",
       "2  62gfisc6  f33c6d94b0efaa198f8f3f20e644625fa3fe10d2  biorxiv   \n",
       "3  058r9486  4da8a87e614373d56070ed272487451266dce919  biorxiv   \n",
       "4  wich35l7  eccef80cfbe078235df22398f195d5db462d8000  biorxiv   \n",
       "\n",
       "                                               title             doi pmcid  \\\n",
       "0  SIANN: Strain Identification by Alignment to N...  10.1101/001727   NaN   \n",
       "1  Spatial epidemiology of networked metapopulati...  10.1101/003889   NaN   \n",
       "2  Sequencing of the human IG light chain loci fr...  10.1101/006866   NaN   \n",
       "3  Bayesian mixture analysis for metagenomic comm...  10.1101/007476   NaN   \n",
       "4  Mapping a viral phylogeny onto outbreak trees ...  10.1101/010389   NaN   \n",
       "\n",
       "   pubmed_id  license                                           abstract  \\\n",
       "0        NaN  biorxiv  Next-generation sequencing is increasingly bei...   \n",
       "1        NaN  biorxiv  An emerging disease is one infectious epidemic...   \n",
       "2        NaN  biorxiv  Germline variation at immunoglobulin gene (IG)...   \n",
       "3        NaN  biorxiv  Deep sequencing of clinical samples is now an ...   \n",
       "4        NaN  biorxiv  Developing methods to reconstruct transmission...   \n",
       "\n",
       "  publish_time                                            authors journal  \\\n",
       "0   2014-01-10  Samuel Minot; Stephen D Turner; Krista L Ternu...     NaN   \n",
       "1   2014-06-04                                 Lin WANG; Xiang Li     NaN   \n",
       "2   2014-07-03  Corey T Watson; Karyn Meltz Steinberg; Tina A ...     NaN   \n",
       "3   2014-07-25                 Sofia Morfopoulou; Vincent Plagnol     NaN   \n",
       "4   2014-11-11                 Stephen P Velsko; Jonathan E Allen     NaN   \n",
       "\n",
       "   Microsoft Academic Paper ID WHO #Covidence  has_full_text   full_text_file  \\\n",
       "0                          NaN            NaN           True  biorxiv_medrxiv   \n",
       "1                          NaN            NaN           True  biorxiv_medrxiv   \n",
       "2                          NaN            NaN           True  biorxiv_medrxiv   \n",
       "3                          NaN            NaN           True  biorxiv_medrxiv   \n",
       "4                          NaN            NaN           True  biorxiv_medrxiv   \n",
       "\n",
       "                              url  \n",
       "0  https://doi.org/10.1101/001727  \n",
       "1  https://doi.org/10.1101/003889  \n",
       "2  https://doi.org/10.1101/006866  \n",
       "3  https://doi.org/10.1101/007476  \n",
       "4  https://doi.org/10.1101/010389  "
      ]
     },
     "execution_count": 12,
     "metadata": {},
     "output_type": "execute_result"
    }
   ],
   "source": [
    "# Show first 5 rows of the metadata\n",
    "# to get a feeling for the metadata\n",
    "\n",
    "df.head(5)"
   ]
  },
  {
   "cell_type": "markdown",
   "metadata": {},
   "source": [
    "Some column names and meanings:\n",
    "\n",
    "  * cord_uid: a unique identifier for each article in the CORD-19 dataset\n",
    "  * sha: many of the paper records have PDFs and the hash of the PDFs are in 'sha'\n",
    "  * source_x: where is the article published?\n",
    "  * title: title of the article\n",
    "  * doi: the [Digital Object Identifier (DOI)](https://en.wikipedia.org/wiki/Digital_object_identifier) of the article. Why DOIs? DOIs are fixed, while URLs (website addresses) can change\n",
    "  * pcmid: id present if it is a \"PubMed Central (PMC)\" article. \"PubMed Central\" is a free full-text archive of biomedical and life sciences journal literature at the U.S. National Institutes of Health's National Library of Medicine (NIH/NLM)\n",
    "  * ..."
   ]
  },
  {
   "cell_type": "markdown",
   "metadata": {},
   "source": [
    "|   |   |   |   |   |\n",
    "|---|---|---|---|---|\n",
    "|   |   |   |   |   |"
   ]
  },
  {
   "cell_type": "markdown",
   "metadata": {},
   "source": [
    "## Analyse publication years of articles"
   ]
  },
  {
   "cell_type": "code",
   "execution_count": 19,
   "metadata": {},
   "outputs": [
    {
     "data": {
      "text/plain": [
       "0       2014-01-10\n",
       "1       2014-06-04\n",
       "2       2014-07-03\n",
       "3       2014-07-25\n",
       "4       2014-11-11\n",
       "           ...    \n",
       "45769   2015-11-01\n",
       "45770   2011-11-30\n",
       "45771   2020-03-07\n",
       "45772   2020-02-17\n",
       "45773   2017-03-03\n",
       "Name: publish_time, Length: 45774, dtype: datetime64[ns]"
      ]
     },
     "execution_count": 19,
     "metadata": {},
     "output_type": "execute_result"
    }
   ],
   "source": [
    "dates = pd.to_datetime(df[\"publish_time\"])\n",
    "dates"
   ]
  },
  {
   "cell_type": "code",
   "execution_count": 20,
   "metadata": {},
   "outputs": [
    {
     "data": {
      "text/plain": [
       "pandas.core.series.Series"
      ]
     },
     "execution_count": 20,
     "metadata": {},
     "output_type": "execute_result"
    }
   ],
   "source": [
    "type(dates)"
   ]
  },
  {
   "cell_type": "code",
   "execution_count": 36,
   "metadata": {},
   "outputs": [
    {
     "name": "stdout",
     "output_type": "stream",
     "text": [
      "Article found with unknown publication year (year=nan)\n",
      "Article found with unknown publication year (year=nan)\n",
      "Article found with unknown publication year (year=nan)\n",
      "Article found with unknown publication year (year=nan)\n",
      "Article found with unknown publication year (year=nan)\n",
      "Article found with unknown publication year (year=nan)\n",
      "Article found with unknown publication year (year=nan)\n",
      "Article found with unknown publication year (year=nan)\n",
      "Article found with unknown publication year (year=nan)\n"
     ]
    }
   ],
   "source": [
    "publication_years = []\n",
    "for date in dates:\n",
    "    year = date.year\n",
    "    if not isinstance(year,int):\n",
    "        print(\"Article found with unknown publication year (year={0})\".format(year))\n",
    "    else:\n",
    "        publication_years.append( year )"
   ]
  },
  {
   "cell_type": "code",
   "execution_count": 58,
   "metadata": {},
   "outputs": [
    {
     "data": {
      "text/plain": [
       "[2014,\n",
       " 2014,\n",
       " 2014,\n",
       " 2014,\n",
       " 2014,\n",
       " 2014,\n",
       " 2015,\n",
       " 2015,\n",
       " 2015,\n",
       " 2015,\n",
       " 2015,\n",
       " 2015,\n",
       " 2016,\n",
       " 2016,\n",
       " 2016,\n",
       " 2016,\n",
       " 2016,\n",
       " 2016,\n",
       " 2016,\n",
       " 2016]"
      ]
     },
     "execution_count": 58,
     "metadata": {},
     "output_type": "execute_result"
    }
   ],
   "source": [
    "publication_years[:20]"
   ]
  },
  {
   "cell_type": "code",
   "execution_count": 61,
   "metadata": {},
   "outputs": [
    {
     "data": {
      "text/plain": [
       "1951"
      ]
     },
     "execution_count": 61,
     "metadata": {},
     "output_type": "execute_result"
    }
   ],
   "source": [
    "earliest_publication = min(publication_years)\n",
    "earliest_publication"
   ]
  },
  {
   "cell_type": "code",
   "execution_count": 63,
   "metadata": {},
   "outputs": [
    {
     "data": {
      "text/plain": [
       "2020"
      ]
     },
     "execution_count": 63,
     "metadata": {},
     "output_type": "execute_result"
    }
   ],
   "source": [
    "latest_publication = max(publication_years)\n",
    "latest_publication"
   ]
  },
  {
   "cell_type": "code",
   "execution_count": 64,
   "metadata": {},
   "outputs": [],
   "source": [
    "import numpy as np\n",
    "list_of_years = list(np.arange(earliest_publication,latest_publication+1))"
   ]
  },
  {
   "cell_type": "code",
   "execution_count": 66,
   "metadata": {},
   "outputs": [
    {
     "data": {
      "image/png": "[encoded data removed]",
      "text/plain": [
       "<Figure size 432x288 with 1 Axes>"
      ]
     },
     "metadata": {
      "needs_background": "light"
     },
     "output_type": "display_data"
    }
   ],
   "source": [
    "import matplotlib.pyplot as plt\n",
    "hist_data = plt.hist( publication_years, bins=list_of_years )\n",
    "plt.title(\"Publication years of the CORD-19 articles\")\n",
    "plt.xlabel(\"Year\")\n",
    "plt.ylabel(\"Nr of articles published in that year\")\n",
    "plt.show()"
   ]
  },
  {
   "cell_type": "code",
   "execution_count": null,
   "metadata": {},
   "outputs": [],
   "source": []
  }
 ],
 "metadata": {
  "kernelspec": {
   "display_name": "Python 3",
   "language": "python",
   "name": "python3"
  },
  "language_info": {
   "codemirror_mode": {
    "name": "ipython",
    "version": 3
   },
   "file_extension": ".py",
   "mimetype": "text/x-python",
   "name": "python",
   "nbconvert_exporter": "python",
   "pygments_lexer": "ipython3",
   "version": "3.8.2"
  },
  "toc-autonumbering": true
 },
 "nbformat": 4,
 "nbformat_minor": 4
}
